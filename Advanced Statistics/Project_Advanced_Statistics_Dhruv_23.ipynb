{
  "nbformat": 4,
  "nbformat_minor": 0,
  "metadata": {
    "colab": {
      "provenance": []
    },
    "kernelspec": {
      "name": "python3",
      "display_name": "Python 3"
    },
    "language_info": {
      "name": "python"
    }
  },
  "cells": [
    {
      "cell_type": "code",
      "source": [
        "#Importing the ncessary Libraries\n",
        "import numpy as np\n",
        "import pandas as pd\n",
        "import matplotlib.pyplot as plt\n",
        "from scipy.stats import zscore\n",
        "from scipy.stats import ttest_rel, ttest_ind\n",
        "from scipy.stats import   ttest_1samp\n",
        "from statsmodels.stats.anova import _get_covariance, anova_lm\n",
        "from statsmodels.graphics.factorplots import interaction_plot\n",
        "from scipy import stats\n",
        "from scipy.stats import norm\n",
        "from sklearn.impute import SimpleImputer"
      ],
      "metadata": {
        "id": "JXBxvj3CT8O5"
      },
      "execution_count": 78,
      "outputs": []
    },
    {
      "cell_type": "markdown",
      "source": [
        "## **Note: Problem 1, 2 & 4th are solved in Business Report hence not part of the python notebook**\n",
        "\n",
        "\n"
      ],
      "metadata": {
        "id": "Jlz3Ro6vS9b3"
      }
    },
    {
      "cell_type": "markdown",
      "source": [
        "### Problem 3: per sq. centimeter and a standard deviation of 1.5 kg per sq. centimeter. The quality team of the cement company wants to know the following about the packaging material to better understand wastage or pilferage within the supply chain; Answer the questions below based on the given information; (Provide an appropriate visual representation of your answers, without which marks will be deducted)\n",
        "\n",
        "The breaking strength of gunny bags used for packaging cement is normally distributed with a mean of 5 kg"
      ],
      "metadata": {
        "id": "PetV1njbf7fY"
      }
    },
    {
      "cell_type": "code",
      "source": [
        "Mean=5\n",
        "Std=1.5"
      ],
      "metadata": {
        "id": "dehTu1fZibj7"
      },
      "execution_count": null,
      "outputs": []
    },
    {
      "cell_type": "markdown",
      "source": [
        "**3.1** What proportion of the gunny bags have a breaking strength less than 3.17 kg per sq cm?"
      ],
      "metadata": {
        "id": "NejIeadQiSt4"
      }
    },
    {
      "cell_type": "code",
      "source": [
        "#X = 3.17 ,  μ = 5,  σ = 1.5\n",
        "#Z score =\tx - μ/ σ\n",
        "\n",
        "z=(3.17 - 5)/ 1.5\n",
        "z"
      ],
      "metadata": {
        "id": "jvBnFTR8f6b1",
        "colab": {
          "base_uri": "https://localhost:8080/"
        },
        "outputId": "4c782370-5942-4557-bf29-2d1d87d67703"
      },
      "execution_count": null,
      "outputs": [
        {
          "output_type": "execute_result",
          "data": {
            "text/plain": [
              "-1.22"
            ]
          },
          "metadata": {},
          "execution_count": 25
        }
      ]
    },
    {
      "cell_type": "code",
      "source": [
        "stats.norm.cdf(-1.22)\n"
      ],
      "metadata": {
        "id": "e8QQc2GBf6pJ",
        "colab": {
          "base_uri": "https://localhost:8080/"
        },
        "outputId": "719a8b0b-87d4-4db8-bb19-4fe669819462"
      },
      "execution_count": null,
      "outputs": [
        {
          "output_type": "execute_result",
          "data": {
            "text/plain": [
              "0.11123243744783456"
            ]
          },
          "metadata": {},
          "execution_count": 29
        }
      ]
    },
    {
      "cell_type": "markdown",
      "source": [
        "Hence as per the p value, 11.12 % of the gunny bags have a breaking strength less than 3.17 kg per sq cm"
      ],
      "metadata": {
        "id": "04Z40fcfWLOe"
      }
    },
    {
      "cell_type": "markdown",
      "source": [
        " 3.2 What proportion of the gunny bags have a breaking strength at least 3.6 kg per sq cm.?"
      ],
      "metadata": {
        "id": "ughlPqmKb4pI"
      }
    },
    {
      "cell_type": "code",
      "source": [
        "#X = 3.6 ,  μ = 5,  σ = 1.5\n",
        "#Z score =\tx - μ/ σ\n",
        "\n",
        "z=(3.6 - 5)/ 1.5\n",
        "z"
      ],
      "metadata": {
        "colab": {
          "base_uri": "https://localhost:8080/"
        },
        "id": "hQX-FJqyVXbT",
        "outputId": "3a47e827-6139-4ddd-e110-ea02638c149c"
      },
      "execution_count": null,
      "outputs": [
        {
          "output_type": "execute_result",
          "data": {
            "text/plain": [
              "-0.9333333333333332"
            ]
          },
          "metadata": {},
          "execution_count": 39
        }
      ]
    },
    {
      "cell_type": "code",
      "source": [
        "1-stats.norm.cdf(-0.9333333333333332)\n"
      ],
      "metadata": {
        "colab": {
          "base_uri": "https://localhost:8080/"
        },
        "id": "nZuGw5a_cbjI",
        "outputId": "0374dfc4-dce0-484a-b6a0-071a321b1393"
      },
      "execution_count": null,
      "outputs": [
        {
          "output_type": "execute_result",
          "data": {
            "text/plain": [
              "0.8246760551477705"
            ]
          },
          "metadata": {},
          "execution_count": 40
        }
      ]
    },
    {
      "cell_type": "markdown",
      "source": [
        "Hence as per the p value, 82.47% of the gunny bags have a breaking strength at least 3.6 kg per sq cm"
      ],
      "metadata": {
        "id": "cexAsnJscscw"
      }
    },
    {
      "cell_type": "markdown",
      "source": [
        "3.3 What proportion of the gunny bags have a breaking strength between 5 and 5.5 kg per sq cm.?"
      ],
      "metadata": {
        "id": "cAJakkSlcJKN"
      }
    },
    {
      "cell_type": "code",
      "source": [
        "#X = 5.5 ,  μ = 5,  σ = 1.5\n",
        "#Z score =\tx - μ/ σ\n",
        "\n",
        "z=(5.5 - 5)/ 1.5\n",
        "z"
      ],
      "metadata": {
        "colab": {
          "base_uri": "https://localhost:8080/"
        },
        "id": "MV5VjMqcczQU",
        "outputId": "6ab033e2-953e-4f99-e626-aa1faee864a9"
      },
      "execution_count": null,
      "outputs": [
        {
          "output_type": "execute_result",
          "data": {
            "text/plain": [
              "0.3333333333333333"
            ]
          },
          "metadata": {},
          "execution_count": 45
        }
      ]
    },
    {
      "cell_type": "code",
      "source": [
        "stats.norm.cdf(0.3333333333333333)-0.5"
      ],
      "metadata": {
        "colab": {
          "base_uri": "https://localhost:8080/"
        },
        "id": "qDloeTqFc66i",
        "outputId": "13b15a53-acdd-482e-bafa-4fa19cc8c2ac"
      },
      "execution_count": null,
      "outputs": [
        {
          "output_type": "execute_result",
          "data": {
            "text/plain": [
              "0.13055865981823633"
            ]
          },
          "metadata": {},
          "execution_count": 52
        }
      ]
    },
    {
      "cell_type": "markdown",
      "source": [
        "Hence as per the p value, 13.06% of the gunny bags have a breaking strength between 5 and 5.5 kg per sq cm"
      ],
      "metadata": {
        "id": "QvwIYhAJgOg8"
      }
    },
    {
      "cell_type": "markdown",
      "source": [
        "\n",
        "3.4 What proportion of the gunny bags have a breaking strength NOT between 3 and 7.5 kg per sq cm.?\n"
      ],
      "metadata": {
        "id": "Z0d-A-tncMGQ"
      }
    },
    {
      "cell_type": "code",
      "source": [
        "Prob = stats.norm.cdf(3,loc=mu,scale=sigma) + 1- stats.norm.cdf(7.5,loc=mu,scale=sigma)\n",
        "Prob"
      ],
      "metadata": {
        "colab": {
          "base_uri": "https://localhost:8080/"
        },
        "id": "-cGB1Ksvdadx",
        "outputId": "0fabeb87-7e10-4bcf-f13c-ea2d4b0433ba"
      },
      "execution_count": null,
      "outputs": [
        {
          "output_type": "execute_result",
          "data": {
            "text/plain": [
              "0.13900157199868257"
            ]
          },
          "metadata": {},
          "execution_count": 55
        }
      ]
    },
    {
      "cell_type": "markdown",
      "source": [
        "Hence as per the p value, 13.90% of the gunny bags have a breaking strength NOT between 3 and 7.5 kg per sq cm\n"
      ],
      "metadata": {
        "id": "971ft6qfgnPU"
      }
    },
    {
      "cell_type": "markdown",
      "source": [
        "##Problem 5:\n",
        "\n",
        "Zingaro stone printing is a company that specializes in printing images or patterns on polished or unpolished stones. However, for the optimum level of printing of the image the stone surface has to have a Brinell's hardness index of at least 150. Recently, Zingaro has received a batch of polished and unpolished stones from its clients. Use the data provided to answer the following (assuming a 5% significance level);\n",
        "\n"
      ],
      "metadata": {
        "id": "wXcicDDqUelW"
      }
    },
    {
      "cell_type": "code",
      "source": [
        "#importing the dataset\n",
        "Zingaro=pd.read_csv('Zingaro_Company.csv')"
      ],
      "metadata": {
        "id": "chd770lkUdsX"
      },
      "execution_count": null,
      "outputs": []
    },
    {
      "cell_type": "code",
      "source": [
        "Zingaro.head() #Finding the headers of the dataset"
      ],
      "metadata": {
        "id": "fGpvkAeAVpQi",
        "colab": {
          "base_uri": "https://localhost:8080/",
          "height": 206
        },
        "outputId": "6fcd48d6-6376-426f-e93f-bf8a20be24fb"
      },
      "execution_count": null,
      "outputs": [
        {
          "output_type": "execute_result",
          "data": {
            "text/plain": [
              "   Unpolished   Treated and Polished\n",
              "0   164.481713            133.209393\n",
              "1   154.307045            138.482771\n",
              "2   129.861048            159.665201\n",
              "3   159.096184            145.663528\n",
              "4   135.256748            136.789227"
            ],
            "text/html": [
              "\n",
              "  <div id=\"df-dc4bfdfa-7a42-4c9b-a86c-4e098c23233e\">\n",
              "    <div class=\"colab-df-container\">\n",
              "      <div>\n",
              "<style scoped>\n",
              "    .dataframe tbody tr th:only-of-type {\n",
              "        vertical-align: middle;\n",
              "    }\n",
              "\n",
              "    .dataframe tbody tr th {\n",
              "        vertical-align: top;\n",
              "    }\n",
              "\n",
              "    .dataframe thead th {\n",
              "        text-align: right;\n",
              "    }\n",
              "</style>\n",
              "<table border=\"1\" class=\"dataframe\">\n",
              "  <thead>\n",
              "    <tr style=\"text-align: right;\">\n",
              "      <th></th>\n",
              "      <th>Unpolished</th>\n",
              "      <th>Treated and Polished</th>\n",
              "    </tr>\n",
              "  </thead>\n",
              "  <tbody>\n",
              "    <tr>\n",
              "      <th>0</th>\n",
              "      <td>164.481713</td>\n",
              "      <td>133.209393</td>\n",
              "    </tr>\n",
              "    <tr>\n",
              "      <th>1</th>\n",
              "      <td>154.307045</td>\n",
              "      <td>138.482771</td>\n",
              "    </tr>\n",
              "    <tr>\n",
              "      <th>2</th>\n",
              "      <td>129.861048</td>\n",
              "      <td>159.665201</td>\n",
              "    </tr>\n",
              "    <tr>\n",
              "      <th>3</th>\n",
              "      <td>159.096184</td>\n",
              "      <td>145.663528</td>\n",
              "    </tr>\n",
              "    <tr>\n",
              "      <th>4</th>\n",
              "      <td>135.256748</td>\n",
              "      <td>136.789227</td>\n",
              "    </tr>\n",
              "  </tbody>\n",
              "</table>\n",
              "</div>\n",
              "      <button class=\"colab-df-convert\" onclick=\"convertToInteractive('df-dc4bfdfa-7a42-4c9b-a86c-4e098c23233e')\"\n",
              "              title=\"Convert this dataframe to an interactive table.\"\n",
              "              style=\"display:none;\">\n",
              "        \n",
              "  <svg xmlns=\"http://www.w3.org/2000/svg\" height=\"24px\"viewBox=\"0 0 24 24\"\n",
              "       width=\"24px\">\n",
              "    <path d=\"M0 0h24v24H0V0z\" fill=\"none\"/>\n",
              "    <path d=\"M18.56 5.44l.94 2.06.94-2.06 2.06-.94-2.06-.94-.94-2.06-.94 2.06-2.06.94zm-11 1L8.5 8.5l.94-2.06 2.06-.94-2.06-.94L8.5 2.5l-.94 2.06-2.06.94zm10 10l.94 2.06.94-2.06 2.06-.94-2.06-.94-.94-2.06-.94 2.06-2.06.94z\"/><path d=\"M17.41 7.96l-1.37-1.37c-.4-.4-.92-.59-1.43-.59-.52 0-1.04.2-1.43.59L10.3 9.45l-7.72 7.72c-.78.78-.78 2.05 0 2.83L4 21.41c.39.39.9.59 1.41.59.51 0 1.02-.2 1.41-.59l7.78-7.78 2.81-2.81c.8-.78.8-2.07 0-2.86zM5.41 20L4 18.59l7.72-7.72 1.47 1.35L5.41 20z\"/>\n",
              "  </svg>\n",
              "      </button>\n",
              "      \n",
              "  <style>\n",
              "    .colab-df-container {\n",
              "      display:flex;\n",
              "      flex-wrap:wrap;\n",
              "      gap: 12px;\n",
              "    }\n",
              "\n",
              "    .colab-df-convert {\n",
              "      background-color: #E8F0FE;\n",
              "      border: none;\n",
              "      border-radius: 50%;\n",
              "      cursor: pointer;\n",
              "      display: none;\n",
              "      fill: #1967D2;\n",
              "      height: 32px;\n",
              "      padding: 0 0 0 0;\n",
              "      width: 32px;\n",
              "    }\n",
              "\n",
              "    .colab-df-convert:hover {\n",
              "      background-color: #E2EBFA;\n",
              "      box-shadow: 0px 1px 2px rgba(60, 64, 67, 0.3), 0px 1px 3px 1px rgba(60, 64, 67, 0.15);\n",
              "      fill: #174EA6;\n",
              "    }\n",
              "\n",
              "    [theme=dark] .colab-df-convert {\n",
              "      background-color: #3B4455;\n",
              "      fill: #D2E3FC;\n",
              "    }\n",
              "\n",
              "    [theme=dark] .colab-df-convert:hover {\n",
              "      background-color: #434B5C;\n",
              "      box-shadow: 0px 1px 3px 1px rgba(0, 0, 0, 0.15);\n",
              "      filter: drop-shadow(0px 1px 2px rgba(0, 0, 0, 0.3));\n",
              "      fill: #FFFFFF;\n",
              "    }\n",
              "  </style>\n",
              "\n",
              "      <script>\n",
              "        const buttonEl =\n",
              "          document.querySelector('#df-dc4bfdfa-7a42-4c9b-a86c-4e098c23233e button.colab-df-convert');\n",
              "        buttonEl.style.display =\n",
              "          google.colab.kernel.accessAllowed ? 'block' : 'none';\n",
              "\n",
              "        async function convertToInteractive(key) {\n",
              "          const element = document.querySelector('#df-dc4bfdfa-7a42-4c9b-a86c-4e098c23233e');\n",
              "          const dataTable =\n",
              "            await google.colab.kernel.invokeFunction('convertToInteractive',\n",
              "                                                     [key], {});\n",
              "          if (!dataTable) return;\n",
              "\n",
              "          const docLinkHtml = 'Like what you see? Visit the ' +\n",
              "            '<a target=\"_blank\" href=https://colab.research.google.com/notebooks/data_table.ipynb>data table notebook</a>'\n",
              "            + ' to learn more about interactive tables.';\n",
              "          element.innerHTML = '';\n",
              "          dataTable['output_type'] = 'display_data';\n",
              "          await google.colab.output.renderOutput(dataTable, element);\n",
              "          const docLink = document.createElement('div');\n",
              "          docLink.innerHTML = docLinkHtml;\n",
              "          element.appendChild(docLink);\n",
              "        }\n",
              "      </script>\n",
              "    </div>\n",
              "  </div>\n",
              "  "
            ]
          },
          "metadata": {},
          "execution_count": 73
        }
      ]
    },
    {
      "cell_type": "code",
      "source": [
        "Zingaro.info() "
      ],
      "metadata": {
        "id": "24242dzFV0Mg",
        "colab": {
          "base_uri": "https://localhost:8080/"
        },
        "outputId": "88b2ad7f-49d1-4300-a9e3-af3b1c213a31"
      },
      "execution_count": null,
      "outputs": [
        {
          "output_type": "stream",
          "name": "stdout",
          "text": [
            "<class 'pandas.core.frame.DataFrame'>\n",
            "RangeIndex: 75 entries, 0 to 74\n",
            "Data columns (total 2 columns):\n",
            " #   Column                Non-Null Count  Dtype  \n",
            "---  ------                --------------  -----  \n",
            " 0   Unpolished            75 non-null     float64\n",
            " 1   Treated and Polished  75 non-null     float64\n",
            "dtypes: float64(2)\n",
            "memory usage: 1.3 KB\n"
          ]
        }
      ]
    },
    {
      "cell_type": "code",
      "source": [
        "Zingaro.shape #shape of the dataset"
      ],
      "metadata": {
        "colab": {
          "base_uri": "https://localhost:8080/"
        },
        "id": "z32AQ0u5m5FY",
        "outputId": "81eba4d5-df54-4c50-aa88-b79ad7f9919f"
      },
      "execution_count": null,
      "outputs": [
        {
          "output_type": "execute_result",
          "data": {
            "text/plain": [
              "(75, 2)"
            ]
          },
          "metadata": {},
          "execution_count": 75
        }
      ]
    },
    {
      "cell_type": "code",
      "source": [
        "Zingaro.isnull().sum() #checking null values"
      ],
      "metadata": {
        "id": "OUYDuQlwV2rw",
        "colab": {
          "base_uri": "https://localhost:8080/"
        },
        "outputId": "fc13eb22-ebb1-42d1-e9a9-f53ef195e572"
      },
      "execution_count": null,
      "outputs": [
        {
          "output_type": "execute_result",
          "data": {
            "text/plain": [
              "Unpolished              0\n",
              "Treated and Polished    0\n",
              "dtype: int64"
            ]
          },
          "metadata": {},
          "execution_count": 76
        }
      ]
    },
    {
      "cell_type": "code",
      "source": [
        "Zingaro.describe(include='all').T #Five Points summary"
      ],
      "metadata": {
        "id": "EG6sWefcV5WI",
        "colab": {
          "base_uri": "https://localhost:8080/",
          "height": 112
        },
        "outputId": "73e7066f-879a-45d9-e9a5-0c2811611b00"
      },
      "execution_count": null,
      "outputs": [
        {
          "output_type": "execute_result",
          "data": {
            "text/plain": [
              "                      count        mean        std         min         25%  \\\n",
              "Unpolished             75.0  134.110527  33.041804   48.406838  115.329753   \n",
              "Treated and Polished   75.0  147.788117  15.587355  107.524167  138.268300   \n",
              "\n",
              "                             50%         75%         max  \n",
              "Unpolished            135.597121  158.215098  200.161313  \n",
              "Treated and Polished  145.721322  157.373318  192.272856  "
            ],
            "text/html": [
              "\n",
              "  <div id=\"df-7e3a059c-5240-414f-bd7b-7439a6490846\">\n",
              "    <div class=\"colab-df-container\">\n",
              "      <div>\n",
              "<style scoped>\n",
              "    .dataframe tbody tr th:only-of-type {\n",
              "        vertical-align: middle;\n",
              "    }\n",
              "\n",
              "    .dataframe tbody tr th {\n",
              "        vertical-align: top;\n",
              "    }\n",
              "\n",
              "    .dataframe thead th {\n",
              "        text-align: right;\n",
              "    }\n",
              "</style>\n",
              "<table border=\"1\" class=\"dataframe\">\n",
              "  <thead>\n",
              "    <tr style=\"text-align: right;\">\n",
              "      <th></th>\n",
              "      <th>count</th>\n",
              "      <th>mean</th>\n",
              "      <th>std</th>\n",
              "      <th>min</th>\n",
              "      <th>25%</th>\n",
              "      <th>50%</th>\n",
              "      <th>75%</th>\n",
              "      <th>max</th>\n",
              "    </tr>\n",
              "  </thead>\n",
              "  <tbody>\n",
              "    <tr>\n",
              "      <th>Unpolished</th>\n",
              "      <td>75.0</td>\n",
              "      <td>134.110527</td>\n",
              "      <td>33.041804</td>\n",
              "      <td>48.406838</td>\n",
              "      <td>115.329753</td>\n",
              "      <td>135.597121</td>\n",
              "      <td>158.215098</td>\n",
              "      <td>200.161313</td>\n",
              "    </tr>\n",
              "    <tr>\n",
              "      <th>Treated and Polished</th>\n",
              "      <td>75.0</td>\n",
              "      <td>147.788117</td>\n",
              "      <td>15.587355</td>\n",
              "      <td>107.524167</td>\n",
              "      <td>138.268300</td>\n",
              "      <td>145.721322</td>\n",
              "      <td>157.373318</td>\n",
              "      <td>192.272856</td>\n",
              "    </tr>\n",
              "  </tbody>\n",
              "</table>\n",
              "</div>\n",
              "      <button class=\"colab-df-convert\" onclick=\"convertToInteractive('df-7e3a059c-5240-414f-bd7b-7439a6490846')\"\n",
              "              title=\"Convert this dataframe to an interactive table.\"\n",
              "              style=\"display:none;\">\n",
              "        \n",
              "  <svg xmlns=\"http://www.w3.org/2000/svg\" height=\"24px\"viewBox=\"0 0 24 24\"\n",
              "       width=\"24px\">\n",
              "    <path d=\"M0 0h24v24H0V0z\" fill=\"none\"/>\n",
              "    <path d=\"M18.56 5.44l.94 2.06.94-2.06 2.06-.94-2.06-.94-.94-2.06-.94 2.06-2.06.94zm-11 1L8.5 8.5l.94-2.06 2.06-.94-2.06-.94L8.5 2.5l-.94 2.06-2.06.94zm10 10l.94 2.06.94-2.06 2.06-.94-2.06-.94-.94-2.06-.94 2.06-2.06.94z\"/><path d=\"M17.41 7.96l-1.37-1.37c-.4-.4-.92-.59-1.43-.59-.52 0-1.04.2-1.43.59L10.3 9.45l-7.72 7.72c-.78.78-.78 2.05 0 2.83L4 21.41c.39.39.9.59 1.41.59.51 0 1.02-.2 1.41-.59l7.78-7.78 2.81-2.81c.8-.78.8-2.07 0-2.86zM5.41 20L4 18.59l7.72-7.72 1.47 1.35L5.41 20z\"/>\n",
              "  </svg>\n",
              "      </button>\n",
              "      \n",
              "  <style>\n",
              "    .colab-df-container {\n",
              "      display:flex;\n",
              "      flex-wrap:wrap;\n",
              "      gap: 12px;\n",
              "    }\n",
              "\n",
              "    .colab-df-convert {\n",
              "      background-color: #E8F0FE;\n",
              "      border: none;\n",
              "      border-radius: 50%;\n",
              "      cursor: pointer;\n",
              "      display: none;\n",
              "      fill: #1967D2;\n",
              "      height: 32px;\n",
              "      padding: 0 0 0 0;\n",
              "      width: 32px;\n",
              "    }\n",
              "\n",
              "    .colab-df-convert:hover {\n",
              "      background-color: #E2EBFA;\n",
              "      box-shadow: 0px 1px 2px rgba(60, 64, 67, 0.3), 0px 1px 3px 1px rgba(60, 64, 67, 0.15);\n",
              "      fill: #174EA6;\n",
              "    }\n",
              "\n",
              "    [theme=dark] .colab-df-convert {\n",
              "      background-color: #3B4455;\n",
              "      fill: #D2E3FC;\n",
              "    }\n",
              "\n",
              "    [theme=dark] .colab-df-convert:hover {\n",
              "      background-color: #434B5C;\n",
              "      box-shadow: 0px 1px 3px 1px rgba(0, 0, 0, 0.15);\n",
              "      filter: drop-shadow(0px 1px 2px rgba(0, 0, 0, 0.3));\n",
              "      fill: #FFFFFF;\n",
              "    }\n",
              "  </style>\n",
              "\n",
              "      <script>\n",
              "        const buttonEl =\n",
              "          document.querySelector('#df-7e3a059c-5240-414f-bd7b-7439a6490846 button.colab-df-convert');\n",
              "        buttonEl.style.display =\n",
              "          google.colab.kernel.accessAllowed ? 'block' : 'none';\n",
              "\n",
              "        async function convertToInteractive(key) {\n",
              "          const element = document.querySelector('#df-7e3a059c-5240-414f-bd7b-7439a6490846');\n",
              "          const dataTable =\n",
              "            await google.colab.kernel.invokeFunction('convertToInteractive',\n",
              "                                                     [key], {});\n",
              "          if (!dataTable) return;\n",
              "\n",
              "          const docLinkHtml = 'Like what you see? Visit the ' +\n",
              "            '<a target=\"_blank\" href=https://colab.research.google.com/notebooks/data_table.ipynb>data table notebook</a>'\n",
              "            + ' to learn more about interactive tables.';\n",
              "          element.innerHTML = '';\n",
              "          dataTable['output_type'] = 'display_data';\n",
              "          await google.colab.output.renderOutput(dataTable, element);\n",
              "          const docLink = document.createElement('div');\n",
              "          docLink.innerHTML = docLinkHtml;\n",
              "          element.appendChild(docLink);\n",
              "        }\n",
              "      </script>\n",
              "    </div>\n",
              "  </div>\n",
              "  "
            ]
          },
          "metadata": {},
          "execution_count": 77
        }
      ]
    },
    {
      "cell_type": "code",
      "source": [
        "#making a variable for Mean & Std deviation of each type of stone\n",
        "sigma_unpolished=Zingaro['Unpolished '].std()\n",
        "Mu_unpolished=Zingaro['Unpolished '].mean()\n",
        "Mu_unpolished, sigma_unpolished"
      ],
      "metadata": {
        "id": "kcxTfYnw_W0R",
        "colab": {
          "base_uri": "https://localhost:8080/"
        },
        "outputId": "7dc1e774-29fd-43f5-deb9-5a391a7ba902"
      },
      "execution_count": null,
      "outputs": [
        {
          "output_type": "execute_result",
          "data": {
            "text/plain": [
              "(134.11052653373332, 33.0418044136061)"
            ]
          },
          "metadata": {},
          "execution_count": 64
        }
      ]
    },
    {
      "cell_type": "code",
      "source": [
        "sigma_polished=Zingaro['Treated and Polished'].std()\n",
        "Mu_polished=Zingaro['Treated and Polished'].mean()\n",
        "Mu_polished , sigma_polished"
      ],
      "metadata": {
        "id": "j4hwgTL0_uPx",
        "colab": {
          "base_uri": "https://localhost:8080/"
        },
        "outputId": "b234c7ce-bae1-4e96-fe48-49d6da50574a"
      },
      "execution_count": null,
      "outputs": [
        {
          "output_type": "execute_result",
          "data": {
            "text/plain": [
              "(147.78811718133335, 15.587355273119853)"
            ]
          },
          "metadata": {},
          "execution_count": 65
        }
      ]
    },
    {
      "cell_type": "markdown",
      "source": [
        "5.1 Earlier experience of Zingaro with this particular client is favorable as the stone surface was found to be of adequate hardness. However, Zingaro has reason to believe now that the unpolished stones may not be suitable for printing. Do you think Zingaro is justified in thinking so?"
      ],
      "metadata": {
        "id": "HSP38bibZC9-"
      }
    },
    {
      "cell_type": "markdown",
      "source": [
        "H0 = The unpolished stones may be suitable for printing\n",
        "\n",
        "H1 = The unpolished stones may Not be suitable for printing\n",
        "\n",
        "* H0(unpolised) >= 150 \n",
        "\n",
        "* HA(unpolised) < 150 "
      ],
      "metadata": {
        "id": "AiK3F5CCbP3R"
      }
    },
    {
      "cell_type": "code",
      "source": [
        "# We will perform one sample t-test \n",
        "# Hypothesised Mean = 150\n",
        "t_statistic, p_value = ttest_1samp(Zingaro['Unpolished '], 150)\n",
        "print('One sample t test \\nt statistic: {0} p value: {1} '.format(t_statistic, p_value))"
      ],
      "metadata": {
        "id": "Iy6lPTuGnStc",
        "colab": {
          "base_uri": "https://localhost:8080/"
        },
        "outputId": "27c876c6-5048-4fa8-e9a9-639e80e1700c"
      },
      "execution_count": null,
      "outputs": [
        {
          "output_type": "stream",
          "name": "stdout",
          "text": [
            "One sample t test \n",
            "t statistic: -4.164629601426758 p value: 8.342573994839285e-05 \n"
          ]
        }
      ]
    },
    {
      "cell_type": "code",
      "source": [
        "print (\"one sample t-test p-value=\", p_value/2)\n",
        "alpha_level = 0.05\n",
        "if (p_value/2) < alpha_level:\n",
        "    print('We have enough evidence to reject the null hypothesis in favour of alternative hypothesis')\n",
        "    \n",
        "else:\n",
        "    print('We do not have enough evidence to reject the null hypothesis in favour of alternative hypothesis')\n",
        "    "
      ],
      "metadata": {
        "colab": {
          "base_uri": "https://localhost:8080/"
        },
        "id": "Z5tXhdR8kHEK",
        "outputId": "97a9caa9-0472-4d34-a597-ccd17f078a1d"
      },
      "execution_count": null,
      "outputs": [
        {
          "output_type": "stream",
          "name": "stdout",
          "text": [
            "one sample t-test p-value= 4.1712869974196425e-05\n",
            "We have enough evidence to reject the null hypothesis in favour of alternative hypothesis\n"
          ]
        }
      ]
    },
    {
      "cell_type": "markdown",
      "source": [
        "5.2 Is the mean hardness of the polished and unpolished stones the same?"
      ],
      "metadata": {
        "id": "kGupj8n36KCs"
      }
    },
    {
      "cell_type": "markdown",
      "source": [
        "* H0: Mu{unpolised0 = Mu(Polisedand Treated) \n",
        "\n",
        "* Ha: Mu{unpolised0 != Mu(Polisedand Treated) "
      ],
      "metadata": {
        "id": "aUu0Uh_G6r89"
      }
    },
    {
      "cell_type": "code",
      "source": [
        "t_statistic, p_value  = ttest_ind(data1['Unpolished '],data1['Treated and Polished'])\n",
        "print('tstat',t_statistic)    \n",
        "print('P Value',p_value)"
      ],
      "metadata": {
        "colab": {
          "base_uri": "https://localhost:8080/"
        },
        "id": "qZwQKQ68ZLHi",
        "outputId": "76511873-2153-4d93-84aa-ff88f048197f"
      },
      "execution_count": null,
      "outputs": [
        {
          "output_type": "stream",
          "name": "stdout",
          "text": [
            "tstat -3.242232050141406\n",
            "P Value 0.001465515019462831\n"
          ]
        }
      ]
    },
    {
      "cell_type": "code",
      "source": [
        "print (\"Paired two-sample t-test p-value=\", p_value)\n",
        "\n",
        "alpha_level = 0.05\n",
        "\n",
        "if (p_value) < alpha_level:\n",
        "    print('We have enough evidence to reject the null hypothesis in favour of alternative hypothesis')\n",
        "    \n",
        "else:\n",
        "    print('We do not have enough evidence to reject the null hypothesis in favour of alternative hypothesis')\n",
        "    "
      ],
      "metadata": {
        "colab": {
          "base_uri": "https://localhost:8080/"
        },
        "id": "EvcHl0OJj-US",
        "outputId": "cd7ff36d-7b06-4e48-9f29-362ad74a829a"
      },
      "execution_count": null,
      "outputs": [
        {
          "output_type": "stream",
          "name": "stdout",
          "text": [
            "Paired two-sample t-test p-value= 0.001465515019462831\n",
            "We have enough evidence to reject the null hypothesis in favour of alternative hypothesis\n"
          ]
        }
      ]
    },
    {
      "cell_type": "markdown",
      "source": [
        "**Problem 6:**\n",
        "\n",
        " \n",
        "\n",
        "Aquarius health club, one of the largest and most popular cross-fit gyms in the country has been advertising a rigorous program for body conditioning. The program is considered successful if the candidate is able to do more than 5 push-ups, as compared to when he/she enrolled in the program. Using the sample data provided can you conclude whether the program is successful? (Consider the level of Significance as 5%)\n",
        "\n",
        "Note that this is a problem of the paired-t-test. Since the claim is that the training will make a difference of more than 5, the null and alternative hypotheses must be formed accordingly."
      ],
      "metadata": {
        "id": "YsTdpnM_mOpk"
      }
    },
    {
      "cell_type": "code",
      "source": [
        "ahc=pd.read_csv(\"Aquarius_gym.csv\")"
      ],
      "metadata": {
        "id": "cjSpk08umhFO"
      },
      "execution_count": 136,
      "outputs": []
    },
    {
      "cell_type": "code",
      "source": [
        "ahc #Head & tail of dataset"
      ],
      "metadata": {
        "id": "7JhsmQwRmuBX",
        "colab": {
          "base_uri": "https://localhost:8080/",
          "height": 423
        },
        "outputId": "cb77a04d-eb60-4200-be60-e32a2164da4f"
      },
      "execution_count": 137,
      "outputs": [
        {
          "output_type": "execute_result",
          "data": {
            "text/plain": [
              "    Sr no.  Before  After\n",
              "0        1      39     44\n",
              "1        2      25     25\n",
              "2        3      39     39\n",
              "3        4       6     13\n",
              "4        5      40     44\n",
              "..     ...     ...    ...\n",
              "95      96      16     18\n",
              "96      97      19     28\n",
              "97      98      24     28\n",
              "98      99      14     24\n",
              "99     100      30     39\n",
              "\n",
              "[100 rows x 3 columns]"
            ],
            "text/html": [
              "\n",
              "  <div id=\"df-80e255bc-72a8-46cc-98fe-a2cb33e4e7ef\">\n",
              "    <div class=\"colab-df-container\">\n",
              "      <div>\n",
              "<style scoped>\n",
              "    .dataframe tbody tr th:only-of-type {\n",
              "        vertical-align: middle;\n",
              "    }\n",
              "\n",
              "    .dataframe tbody tr th {\n",
              "        vertical-align: top;\n",
              "    }\n",
              "\n",
              "    .dataframe thead th {\n",
              "        text-align: right;\n",
              "    }\n",
              "</style>\n",
              "<table border=\"1\" class=\"dataframe\">\n",
              "  <thead>\n",
              "    <tr style=\"text-align: right;\">\n",
              "      <th></th>\n",
              "      <th>Sr no.</th>\n",
              "      <th>Before</th>\n",
              "      <th>After</th>\n",
              "    </tr>\n",
              "  </thead>\n",
              "  <tbody>\n",
              "    <tr>\n",
              "      <th>0</th>\n",
              "      <td>1</td>\n",
              "      <td>39</td>\n",
              "      <td>44</td>\n",
              "    </tr>\n",
              "    <tr>\n",
              "      <th>1</th>\n",
              "      <td>2</td>\n",
              "      <td>25</td>\n",
              "      <td>25</td>\n",
              "    </tr>\n",
              "    <tr>\n",
              "      <th>2</th>\n",
              "      <td>3</td>\n",
              "      <td>39</td>\n",
              "      <td>39</td>\n",
              "    </tr>\n",
              "    <tr>\n",
              "      <th>3</th>\n",
              "      <td>4</td>\n",
              "      <td>6</td>\n",
              "      <td>13</td>\n",
              "    </tr>\n",
              "    <tr>\n",
              "      <th>4</th>\n",
              "      <td>5</td>\n",
              "      <td>40</td>\n",
              "      <td>44</td>\n",
              "    </tr>\n",
              "    <tr>\n",
              "      <th>...</th>\n",
              "      <td>...</td>\n",
              "      <td>...</td>\n",
              "      <td>...</td>\n",
              "    </tr>\n",
              "    <tr>\n",
              "      <th>95</th>\n",
              "      <td>96</td>\n",
              "      <td>16</td>\n",
              "      <td>18</td>\n",
              "    </tr>\n",
              "    <tr>\n",
              "      <th>96</th>\n",
              "      <td>97</td>\n",
              "      <td>19</td>\n",
              "      <td>28</td>\n",
              "    </tr>\n",
              "    <tr>\n",
              "      <th>97</th>\n",
              "      <td>98</td>\n",
              "      <td>24</td>\n",
              "      <td>28</td>\n",
              "    </tr>\n",
              "    <tr>\n",
              "      <th>98</th>\n",
              "      <td>99</td>\n",
              "      <td>14</td>\n",
              "      <td>24</td>\n",
              "    </tr>\n",
              "    <tr>\n",
              "      <th>99</th>\n",
              "      <td>100</td>\n",
              "      <td>30</td>\n",
              "      <td>39</td>\n",
              "    </tr>\n",
              "  </tbody>\n",
              "</table>\n",
              "<p>100 rows × 3 columns</p>\n",
              "</div>\n",
              "      <button class=\"colab-df-convert\" onclick=\"convertToInteractive('df-80e255bc-72a8-46cc-98fe-a2cb33e4e7ef')\"\n",
              "              title=\"Convert this dataframe to an interactive table.\"\n",
              "              style=\"display:none;\">\n",
              "        \n",
              "  <svg xmlns=\"http://www.w3.org/2000/svg\" height=\"24px\"viewBox=\"0 0 24 24\"\n",
              "       width=\"24px\">\n",
              "    <path d=\"M0 0h24v24H0V0z\" fill=\"none\"/>\n",
              "    <path d=\"M18.56 5.44l.94 2.06.94-2.06 2.06-.94-2.06-.94-.94-2.06-.94 2.06-2.06.94zm-11 1L8.5 8.5l.94-2.06 2.06-.94-2.06-.94L8.5 2.5l-.94 2.06-2.06.94zm10 10l.94 2.06.94-2.06 2.06-.94-2.06-.94-.94-2.06-.94 2.06-2.06.94z\"/><path d=\"M17.41 7.96l-1.37-1.37c-.4-.4-.92-.59-1.43-.59-.52 0-1.04.2-1.43.59L10.3 9.45l-7.72 7.72c-.78.78-.78 2.05 0 2.83L4 21.41c.39.39.9.59 1.41.59.51 0 1.02-.2 1.41-.59l7.78-7.78 2.81-2.81c.8-.78.8-2.07 0-2.86zM5.41 20L4 18.59l7.72-7.72 1.47 1.35L5.41 20z\"/>\n",
              "  </svg>\n",
              "      </button>\n",
              "      \n",
              "  <style>\n",
              "    .colab-df-container {\n",
              "      display:flex;\n",
              "      flex-wrap:wrap;\n",
              "      gap: 12px;\n",
              "    }\n",
              "\n",
              "    .colab-df-convert {\n",
              "      background-color: #E8F0FE;\n",
              "      border: none;\n",
              "      border-radius: 50%;\n",
              "      cursor: pointer;\n",
              "      display: none;\n",
              "      fill: #1967D2;\n",
              "      height: 32px;\n",
              "      padding: 0 0 0 0;\n",
              "      width: 32px;\n",
              "    }\n",
              "\n",
              "    .colab-df-convert:hover {\n",
              "      background-color: #E2EBFA;\n",
              "      box-shadow: 0px 1px 2px rgba(60, 64, 67, 0.3), 0px 1px 3px 1px rgba(60, 64, 67, 0.15);\n",
              "      fill: #174EA6;\n",
              "    }\n",
              "\n",
              "    [theme=dark] .colab-df-convert {\n",
              "      background-color: #3B4455;\n",
              "      fill: #D2E3FC;\n",
              "    }\n",
              "\n",
              "    [theme=dark] .colab-df-convert:hover {\n",
              "      background-color: #434B5C;\n",
              "      box-shadow: 0px 1px 3px 1px rgba(0, 0, 0, 0.15);\n",
              "      filter: drop-shadow(0px 1px 2px rgba(0, 0, 0, 0.3));\n",
              "      fill: #FFFFFF;\n",
              "    }\n",
              "  </style>\n",
              "\n",
              "      <script>\n",
              "        const buttonEl =\n",
              "          document.querySelector('#df-80e255bc-72a8-46cc-98fe-a2cb33e4e7ef button.colab-df-convert');\n",
              "        buttonEl.style.display =\n",
              "          google.colab.kernel.accessAllowed ? 'block' : 'none';\n",
              "\n",
              "        async function convertToInteractive(key) {\n",
              "          const element = document.querySelector('#df-80e255bc-72a8-46cc-98fe-a2cb33e4e7ef');\n",
              "          const dataTable =\n",
              "            await google.colab.kernel.invokeFunction('convertToInteractive',\n",
              "                                                     [key], {});\n",
              "          if (!dataTable) return;\n",
              "\n",
              "          const docLinkHtml = 'Like what you see? Visit the ' +\n",
              "            '<a target=\"_blank\" href=https://colab.research.google.com/notebooks/data_table.ipynb>data table notebook</a>'\n",
              "            + ' to learn more about interactive tables.';\n",
              "          element.innerHTML = '';\n",
              "          dataTable['output_type'] = 'display_data';\n",
              "          await google.colab.output.renderOutput(dataTable, element);\n",
              "          const docLink = document.createElement('div');\n",
              "          docLink.innerHTML = docLinkHtml;\n",
              "          element.appendChild(docLink);\n",
              "        }\n",
              "      </script>\n",
              "    </div>\n",
              "  </div>\n",
              "  "
            ]
          },
          "metadata": {},
          "execution_count": 137
        }
      ]
    },
    {
      "cell_type": "code",
      "source": [
        "ahc.describe().T #five point summary"
      ],
      "metadata": {
        "colab": {
          "base_uri": "https://localhost:8080/",
          "height": 143
        },
        "id": "uZ6dDghxnOIE",
        "outputId": "147a780f-ff23-497e-d9e9-3b44f5086019"
      },
      "execution_count": 138,
      "outputs": [
        {
          "output_type": "execute_result",
          "data": {
            "text/plain": [
              "        count   mean        std   min    25%   50%    75%    max\n",
              "Sr no.  100.0  50.50  29.011492   1.0  25.75  50.5  75.25  100.0\n",
              "Before  100.0  26.94   8.806357   3.0  21.75  28.0  32.25   47.0\n",
              "After   100.0  32.49   8.779562  10.0  26.00  34.0  39.00   51.0"
            ],
            "text/html": [
              "\n",
              "  <div id=\"df-30fad31a-9822-493d-a7b7-09f50da3a63d\">\n",
              "    <div class=\"colab-df-container\">\n",
              "      <div>\n",
              "<style scoped>\n",
              "    .dataframe tbody tr th:only-of-type {\n",
              "        vertical-align: middle;\n",
              "    }\n",
              "\n",
              "    .dataframe tbody tr th {\n",
              "        vertical-align: top;\n",
              "    }\n",
              "\n",
              "    .dataframe thead th {\n",
              "        text-align: right;\n",
              "    }\n",
              "</style>\n",
              "<table border=\"1\" class=\"dataframe\">\n",
              "  <thead>\n",
              "    <tr style=\"text-align: right;\">\n",
              "      <th></th>\n",
              "      <th>count</th>\n",
              "      <th>mean</th>\n",
              "      <th>std</th>\n",
              "      <th>min</th>\n",
              "      <th>25%</th>\n",
              "      <th>50%</th>\n",
              "      <th>75%</th>\n",
              "      <th>max</th>\n",
              "    </tr>\n",
              "  </thead>\n",
              "  <tbody>\n",
              "    <tr>\n",
              "      <th>Sr no.</th>\n",
              "      <td>100.0</td>\n",
              "      <td>50.50</td>\n",
              "      <td>29.011492</td>\n",
              "      <td>1.0</td>\n",
              "      <td>25.75</td>\n",
              "      <td>50.5</td>\n",
              "      <td>75.25</td>\n",
              "      <td>100.0</td>\n",
              "    </tr>\n",
              "    <tr>\n",
              "      <th>Before</th>\n",
              "      <td>100.0</td>\n",
              "      <td>26.94</td>\n",
              "      <td>8.806357</td>\n",
              "      <td>3.0</td>\n",
              "      <td>21.75</td>\n",
              "      <td>28.0</td>\n",
              "      <td>32.25</td>\n",
              "      <td>47.0</td>\n",
              "    </tr>\n",
              "    <tr>\n",
              "      <th>After</th>\n",
              "      <td>100.0</td>\n",
              "      <td>32.49</td>\n",
              "      <td>8.779562</td>\n",
              "      <td>10.0</td>\n",
              "      <td>26.00</td>\n",
              "      <td>34.0</td>\n",
              "      <td>39.00</td>\n",
              "      <td>51.0</td>\n",
              "    </tr>\n",
              "  </tbody>\n",
              "</table>\n",
              "</div>\n",
              "      <button class=\"colab-df-convert\" onclick=\"convertToInteractive('df-30fad31a-9822-493d-a7b7-09f50da3a63d')\"\n",
              "              title=\"Convert this dataframe to an interactive table.\"\n",
              "              style=\"display:none;\">\n",
              "        \n",
              "  <svg xmlns=\"http://www.w3.org/2000/svg\" height=\"24px\"viewBox=\"0 0 24 24\"\n",
              "       width=\"24px\">\n",
              "    <path d=\"M0 0h24v24H0V0z\" fill=\"none\"/>\n",
              "    <path d=\"M18.56 5.44l.94 2.06.94-2.06 2.06-.94-2.06-.94-.94-2.06-.94 2.06-2.06.94zm-11 1L8.5 8.5l.94-2.06 2.06-.94-2.06-.94L8.5 2.5l-.94 2.06-2.06.94zm10 10l.94 2.06.94-2.06 2.06-.94-2.06-.94-.94-2.06-.94 2.06-2.06.94z\"/><path d=\"M17.41 7.96l-1.37-1.37c-.4-.4-.92-.59-1.43-.59-.52 0-1.04.2-1.43.59L10.3 9.45l-7.72 7.72c-.78.78-.78 2.05 0 2.83L4 21.41c.39.39.9.59 1.41.59.51 0 1.02-.2 1.41-.59l7.78-7.78 2.81-2.81c.8-.78.8-2.07 0-2.86zM5.41 20L4 18.59l7.72-7.72 1.47 1.35L5.41 20z\"/>\n",
              "  </svg>\n",
              "      </button>\n",
              "      \n",
              "  <style>\n",
              "    .colab-df-container {\n",
              "      display:flex;\n",
              "      flex-wrap:wrap;\n",
              "      gap: 12px;\n",
              "    }\n",
              "\n",
              "    .colab-df-convert {\n",
              "      background-color: #E8F0FE;\n",
              "      border: none;\n",
              "      border-radius: 50%;\n",
              "      cursor: pointer;\n",
              "      display: none;\n",
              "      fill: #1967D2;\n",
              "      height: 32px;\n",
              "      padding: 0 0 0 0;\n",
              "      width: 32px;\n",
              "    }\n",
              "\n",
              "    .colab-df-convert:hover {\n",
              "      background-color: #E2EBFA;\n",
              "      box-shadow: 0px 1px 2px rgba(60, 64, 67, 0.3), 0px 1px 3px 1px rgba(60, 64, 67, 0.15);\n",
              "      fill: #174EA6;\n",
              "    }\n",
              "\n",
              "    [theme=dark] .colab-df-convert {\n",
              "      background-color: #3B4455;\n",
              "      fill: #D2E3FC;\n",
              "    }\n",
              "\n",
              "    [theme=dark] .colab-df-convert:hover {\n",
              "      background-color: #434B5C;\n",
              "      box-shadow: 0px 1px 3px 1px rgba(0, 0, 0, 0.15);\n",
              "      filter: drop-shadow(0px 1px 2px rgba(0, 0, 0, 0.3));\n",
              "      fill: #FFFFFF;\n",
              "    }\n",
              "  </style>\n",
              "\n",
              "      <script>\n",
              "        const buttonEl =\n",
              "          document.querySelector('#df-30fad31a-9822-493d-a7b7-09f50da3a63d button.colab-df-convert');\n",
              "        buttonEl.style.display =\n",
              "          google.colab.kernel.accessAllowed ? 'block' : 'none';\n",
              "\n",
              "        async function convertToInteractive(key) {\n",
              "          const element = document.querySelector('#df-30fad31a-9822-493d-a7b7-09f50da3a63d');\n",
              "          const dataTable =\n",
              "            await google.colab.kernel.invokeFunction('convertToInteractive',\n",
              "                                                     [key], {});\n",
              "          if (!dataTable) return;\n",
              "\n",
              "          const docLinkHtml = 'Like what you see? Visit the ' +\n",
              "            '<a target=\"_blank\" href=https://colab.research.google.com/notebooks/data_table.ipynb>data table notebook</a>'\n",
              "            + ' to learn more about interactive tables.';\n",
              "          element.innerHTML = '';\n",
              "          dataTable['output_type'] = 'display_data';\n",
              "          await google.colab.output.renderOutput(dataTable, element);\n",
              "          const docLink = document.createElement('div');\n",
              "          docLink.innerHTML = docLinkHtml;\n",
              "          element.appendChild(docLink);\n",
              "        }\n",
              "      </script>\n",
              "    </div>\n",
              "  </div>\n",
              "  "
            ]
          },
          "metadata": {},
          "execution_count": 138
        }
      ]
    },
    {
      "cell_type": "code",
      "source": [
        "ahc.shape #Size of the dataset"
      ],
      "metadata": {
        "id": "8wAP0qTbsWpb",
        "colab": {
          "base_uri": "https://localhost:8080/"
        },
        "outputId": "e2a0f2c1-5a8e-47bb-fae1-8d6ae6cea74a"
      },
      "execution_count": 139,
      "outputs": [
        {
          "output_type": "execute_result",
          "data": {
            "text/plain": [
              "(100, 3)"
            ]
          },
          "metadata": {},
          "execution_count": 139
        }
      ]
    },
    {
      "cell_type": "markdown",
      "source": [
        "In order to find out whether the training will make a difference of more than 5, let us assume below hypothesis\n",
        "\n",
        "\n",
        "Null hypothesis= The training will not  make a diffrence of more than 5 push-up\n",
        "\n",
        "Alternative hypthesis =  The training will not make a diffrence of more than 5 push-ups,\n",
        "\n",
        "H0: mu(after) - mu(before) = >=5 \n",
        "\n",
        "Ha: mu(after) - mu(before) = <5 \n"
      ],
      "metadata": {
        "id": "DOniZLeEnnSF"
      }
    },
    {
      "cell_type": "markdown",
      "source": [
        "Here we select  α  = 0.05 as given in the question."
      ],
      "metadata": {
        "id": "pyNaxzdsr5fZ"
      }
    },
    {
      "cell_type": "markdown",
      "source": [
        "Identify the test statistic\n",
        "The Sample sizes for both samples are  same and We have two paired samples\n",
        "\n",
        "* The sample is a large sample, n > 30. So we use the t distribution and the tSTAT test statistic for two sample paired test."
      ],
      "metadata": {
        "id": "3t26WjCusKSZ"
      }
    },
    {
      "cell_type": "markdown",
      "source": [
        "Let us find out the the p - value and test statistic"
      ],
      "metadata": {
        "id": "rQck9NSosl6y"
      }
    },
    {
      "cell_type": "code",
      "source": [
        "# paired t-test: when comparing the before and after changes\n",
        "t_statistic, p_value  =  ttest_rel(ahc['Before'], ahc['After'] - 5)\n",
        "print('tstat  %1.3f' % t_statistic)    \n",
        "print(\"p-value for one-tail:\", (1-p_value/2))"
      ],
      "metadata": {
        "id": "LkffS-mRm0W9",
        "colab": {
          "base_uri": "https://localhost:8080/"
        },
        "outputId": "095a8ec9-1616-48d7-aec6-4ff1a4730c1a"
      },
      "execution_count": 140,
      "outputs": [
        {
          "output_type": "stream",
          "name": "stdout",
          "text": [
            "tstat  -1.915\n",
            "p-value for one-tail: 0.9708011278589889\n"
          ]
        }
      ]
    },
    {
      "cell_type": "code",
      "source": [
        "# p_value < 0.05 => alternative hypothesis:\n",
        "# The results don't have the same mean at the 5% significance level\n",
        "print (\"Paired two-sample t-test p-value=\", 1-p_value/2)\n",
        "alpha_level = 0.05\n",
        "if (1-p_value/2) < alpha_level:\n",
        "    print('We have enough evidence to reject the null hypothesis in favour of alternative hypothesis')\n",
        "else:\n",
        "    print('We do not have enough evidence to reject the null hypothesis in favour of alternative hypothesis')"
      ],
      "metadata": {
        "id": "_qR8qYaUtGUU",
        "colab": {
          "base_uri": "https://localhost:8080/"
        },
        "outputId": "72927576-2302-4304-80ec-a7171ac9057c"
      },
      "execution_count": 142,
      "outputs": [
        {
          "output_type": "stream",
          "name": "stdout",
          "text": [
            "Paired two-sample t-test p-value= 0.9708011278589889\n",
            "We do not have enough evidence to reject the null hypothesis in favour of alternative hypothesis\n"
          ]
        }
      ]
    },
    {
      "cell_type": "markdown",
      "source": [
        "##Problem 7:\n",
        "\n",
        "Dental implant data: The hardness of metal implant in dental cavities depends on multiple factors, such as the method of implant, the Temp at which the metal is treated, the alloy used as well as on the dentists who may favour one method above another and may work better in his/her favourite method. The response is the variable of interest."
      ],
      "metadata": {
        "id": "cHtf27Vhu3MI"
      }
    },
    {
      "cell_type": "code",
      "source": [
        "dental=pd.read_excel('Dental Hardness data.xlsx',sheet_name='Data') #Importing the dataset"
      ],
      "metadata": {
        "id": "Xpgd9ZvwvDlX"
      },
      "execution_count": 79,
      "outputs": []
    },
    {
      "cell_type": "code",
      "source": [
        "dental #Checking the head & tail of data"
      ],
      "metadata": {
        "colab": {
          "base_uri": "https://localhost:8080/",
          "height": 423
        },
        "id": "cpGqxCBCkdLr",
        "outputId": "25e803e3-4e7a-4bad-9d8c-a16058bdc102"
      },
      "execution_count": 84,
      "outputs": [
        {
          "output_type": "execute_result",
          "data": {
            "text/plain": [
              "    Dentist  Method  Alloy  Temp  Response\n",
              "0         1       1      1  1500       813\n",
              "1         1       1      1  1600       792\n",
              "2         1       1      1  1700       792\n",
              "3         1       1      2  1500       907\n",
              "4         1       1      2  1600       792\n",
              "..      ...     ...    ...   ...       ...\n",
              "85        5       3      1  1600       483\n",
              "86        5       3      1  1700       405\n",
              "87        5       3      2  1500       536\n",
              "88        5       3      2  1600       405\n",
              "89        5       3      2  1700       312\n",
              "\n",
              "[90 rows x 5 columns]"
            ],
            "text/html": [
              "\n",
              "  <div id=\"df-795ef264-3dde-40b5-a9f9-a506cccb7236\">\n",
              "    <div class=\"colab-df-container\">\n",
              "      <div>\n",
              "<style scoped>\n",
              "    .dataframe tbody tr th:only-of-type {\n",
              "        vertical-align: middle;\n",
              "    }\n",
              "\n",
              "    .dataframe tbody tr th {\n",
              "        vertical-align: top;\n",
              "    }\n",
              "\n",
              "    .dataframe thead th {\n",
              "        text-align: right;\n",
              "    }\n",
              "</style>\n",
              "<table border=\"1\" class=\"dataframe\">\n",
              "  <thead>\n",
              "    <tr style=\"text-align: right;\">\n",
              "      <th></th>\n",
              "      <th>Dentist</th>\n",
              "      <th>Method</th>\n",
              "      <th>Alloy</th>\n",
              "      <th>Temp</th>\n",
              "      <th>Response</th>\n",
              "    </tr>\n",
              "  </thead>\n",
              "  <tbody>\n",
              "    <tr>\n",
              "      <th>0</th>\n",
              "      <td>1</td>\n",
              "      <td>1</td>\n",
              "      <td>1</td>\n",
              "      <td>1500</td>\n",
              "      <td>813</td>\n",
              "    </tr>\n",
              "    <tr>\n",
              "      <th>1</th>\n",
              "      <td>1</td>\n",
              "      <td>1</td>\n",
              "      <td>1</td>\n",
              "      <td>1600</td>\n",
              "      <td>792</td>\n",
              "    </tr>\n",
              "    <tr>\n",
              "      <th>2</th>\n",
              "      <td>1</td>\n",
              "      <td>1</td>\n",
              "      <td>1</td>\n",
              "      <td>1700</td>\n",
              "      <td>792</td>\n",
              "    </tr>\n",
              "    <tr>\n",
              "      <th>3</th>\n",
              "      <td>1</td>\n",
              "      <td>1</td>\n",
              "      <td>2</td>\n",
              "      <td>1500</td>\n",
              "      <td>907</td>\n",
              "    </tr>\n",
              "    <tr>\n",
              "      <th>4</th>\n",
              "      <td>1</td>\n",
              "      <td>1</td>\n",
              "      <td>2</td>\n",
              "      <td>1600</td>\n",
              "      <td>792</td>\n",
              "    </tr>\n",
              "    <tr>\n",
              "      <th>...</th>\n",
              "      <td>...</td>\n",
              "      <td>...</td>\n",
              "      <td>...</td>\n",
              "      <td>...</td>\n",
              "      <td>...</td>\n",
              "    </tr>\n",
              "    <tr>\n",
              "      <th>85</th>\n",
              "      <td>5</td>\n",
              "      <td>3</td>\n",
              "      <td>1</td>\n",
              "      <td>1600</td>\n",
              "      <td>483</td>\n",
              "    </tr>\n",
              "    <tr>\n",
              "      <th>86</th>\n",
              "      <td>5</td>\n",
              "      <td>3</td>\n",
              "      <td>1</td>\n",
              "      <td>1700</td>\n",
              "      <td>405</td>\n",
              "    </tr>\n",
              "    <tr>\n",
              "      <th>87</th>\n",
              "      <td>5</td>\n",
              "      <td>3</td>\n",
              "      <td>2</td>\n",
              "      <td>1500</td>\n",
              "      <td>536</td>\n",
              "    </tr>\n",
              "    <tr>\n",
              "      <th>88</th>\n",
              "      <td>5</td>\n",
              "      <td>3</td>\n",
              "      <td>2</td>\n",
              "      <td>1600</td>\n",
              "      <td>405</td>\n",
              "    </tr>\n",
              "    <tr>\n",
              "      <th>89</th>\n",
              "      <td>5</td>\n",
              "      <td>3</td>\n",
              "      <td>2</td>\n",
              "      <td>1700</td>\n",
              "      <td>312</td>\n",
              "    </tr>\n",
              "  </tbody>\n",
              "</table>\n",
              "<p>90 rows × 5 columns</p>\n",
              "</div>\n",
              "      <button class=\"colab-df-convert\" onclick=\"convertToInteractive('df-795ef264-3dde-40b5-a9f9-a506cccb7236')\"\n",
              "              title=\"Convert this dataframe to an interactive table.\"\n",
              "              style=\"display:none;\">\n",
              "        \n",
              "  <svg xmlns=\"http://www.w3.org/2000/svg\" height=\"24px\"viewBox=\"0 0 24 24\"\n",
              "       width=\"24px\">\n",
              "    <path d=\"M0 0h24v24H0V0z\" fill=\"none\"/>\n",
              "    <path d=\"M18.56 5.44l.94 2.06.94-2.06 2.06-.94-2.06-.94-.94-2.06-.94 2.06-2.06.94zm-11 1L8.5 8.5l.94-2.06 2.06-.94-2.06-.94L8.5 2.5l-.94 2.06-2.06.94zm10 10l.94 2.06.94-2.06 2.06-.94-2.06-.94-.94-2.06-.94 2.06-2.06.94z\"/><path d=\"M17.41 7.96l-1.37-1.37c-.4-.4-.92-.59-1.43-.59-.52 0-1.04.2-1.43.59L10.3 9.45l-7.72 7.72c-.78.78-.78 2.05 0 2.83L4 21.41c.39.39.9.59 1.41.59.51 0 1.02-.2 1.41-.59l7.78-7.78 2.81-2.81c.8-.78.8-2.07 0-2.86zM5.41 20L4 18.59l7.72-7.72 1.47 1.35L5.41 20z\"/>\n",
              "  </svg>\n",
              "      </button>\n",
              "      \n",
              "  <style>\n",
              "    .colab-df-container {\n",
              "      display:flex;\n",
              "      flex-wrap:wrap;\n",
              "      gap: 12px;\n",
              "    }\n",
              "\n",
              "    .colab-df-convert {\n",
              "      background-color: #E8F0FE;\n",
              "      border: none;\n",
              "      border-radius: 50%;\n",
              "      cursor: pointer;\n",
              "      display: none;\n",
              "      fill: #1967D2;\n",
              "      height: 32px;\n",
              "      padding: 0 0 0 0;\n",
              "      width: 32px;\n",
              "    }\n",
              "\n",
              "    .colab-df-convert:hover {\n",
              "      background-color: #E2EBFA;\n",
              "      box-shadow: 0px 1px 2px rgba(60, 64, 67, 0.3), 0px 1px 3px 1px rgba(60, 64, 67, 0.15);\n",
              "      fill: #174EA6;\n",
              "    }\n",
              "\n",
              "    [theme=dark] .colab-df-convert {\n",
              "      background-color: #3B4455;\n",
              "      fill: #D2E3FC;\n",
              "    }\n",
              "\n",
              "    [theme=dark] .colab-df-convert:hover {\n",
              "      background-color: #434B5C;\n",
              "      box-shadow: 0px 1px 3px 1px rgba(0, 0, 0, 0.15);\n",
              "      filter: drop-shadow(0px 1px 2px rgba(0, 0, 0, 0.3));\n",
              "      fill: #FFFFFF;\n",
              "    }\n",
              "  </style>\n",
              "\n",
              "      <script>\n",
              "        const buttonEl =\n",
              "          document.querySelector('#df-795ef264-3dde-40b5-a9f9-a506cccb7236 button.colab-df-convert');\n",
              "        buttonEl.style.display =\n",
              "          google.colab.kernel.accessAllowed ? 'block' : 'none';\n",
              "\n",
              "        async function convertToInteractive(key) {\n",
              "          const element = document.querySelector('#df-795ef264-3dde-40b5-a9f9-a506cccb7236');\n",
              "          const dataTable =\n",
              "            await google.colab.kernel.invokeFunction('convertToInteractive',\n",
              "                                                     [key], {});\n",
              "          if (!dataTable) return;\n",
              "\n",
              "          const docLinkHtml = 'Like what you see? Visit the ' +\n",
              "            '<a target=\"_blank\" href=https://colab.research.google.com/notebooks/data_table.ipynb>data table notebook</a>'\n",
              "            + ' to learn more about interactive tables.';\n",
              "          element.innerHTML = '';\n",
              "          dataTable['output_type'] = 'display_data';\n",
              "          await google.colab.output.renderOutput(dataTable, element);\n",
              "          const docLink = document.createElement('div');\n",
              "          docLink.innerHTML = docLinkHtml;\n",
              "          element.appendChild(docLink);\n",
              "        }\n",
              "      </script>\n",
              "    </div>\n",
              "  </div>\n",
              "  "
            ]
          },
          "metadata": {},
          "execution_count": 84
        }
      ]
    },
    {
      "cell_type": "code",
      "source": [
        "dental.shape #Checking size of dataset"
      ],
      "metadata": {
        "colab": {
          "base_uri": "https://localhost:8080/"
        },
        "id": "uzhhfestkex5",
        "outputId": "3feac6b3-60ff-4dce-b1e1-04a4e20d7f7c"
      },
      "execution_count": 85,
      "outputs": [
        {
          "output_type": "execute_result",
          "data": {
            "text/plain": [
              "(90, 5)"
            ]
          },
          "metadata": {},
          "execution_count": 85
        }
      ]
    },
    {
      "cell_type": "code",
      "source": [
        "dental.info()"
      ],
      "metadata": {
        "colab": {
          "base_uri": "https://localhost:8080/"
        },
        "id": "xh6BPujVkmdx",
        "outputId": "014a767a-7228-49db-c170-094d58b95cbf"
      },
      "execution_count": 86,
      "outputs": [
        {
          "output_type": "stream",
          "name": "stdout",
          "text": [
            "<class 'pandas.core.frame.DataFrame'>\n",
            "RangeIndex: 90 entries, 0 to 89\n",
            "Data columns (total 5 columns):\n",
            " #   Column    Non-Null Count  Dtype\n",
            "---  ------    --------------  -----\n",
            " 0   Dentist   90 non-null     int64\n",
            " 1   Method    90 non-null     int64\n",
            " 2   Alloy     90 non-null     int64\n",
            " 3   Temp      90 non-null     int64\n",
            " 4   Response  90 non-null     int64\n",
            "dtypes: int64(5)\n",
            "memory usage: 3.6 KB\n"
          ]
        }
      ]
    },
    {
      "cell_type": "code",
      "source": [
        "dental.isnull().sum() #Checking Null values"
      ],
      "metadata": {
        "id": "YzFijeL_lGKw",
        "colab": {
          "base_uri": "https://localhost:8080/"
        },
        "outputId": "ed2804b3-4861-4c36-9ca9-15bd49cc53a2"
      },
      "execution_count": 88,
      "outputs": [
        {
          "output_type": "execute_result",
          "data": {
            "text/plain": [
              "Dentist     0\n",
              "Method      0\n",
              "Alloy       0\n",
              "Temp        0\n",
              "Response    0\n",
              "dtype: int64"
            ]
          },
          "metadata": {},
          "execution_count": 88
        }
      ]
    },
    {
      "cell_type": "code",
      "source": [
        "dental.describe().T #Five Point Summary"
      ],
      "metadata": {
        "colab": {
          "base_uri": "https://localhost:8080/",
          "height": 206
        },
        "id": "BzHHG_By1CjQ",
        "outputId": "2e5917f8-200c-48e1-e6b9-3427d8db4928"
      },
      "execution_count": 90,
      "outputs": [
        {
          "output_type": "execute_result",
          "data": {
            "text/plain": [
              "          count         mean         std     min     25%     50%     75%  \\\n",
              "Dentist    90.0     3.000000    1.422136     1.0     2.0     3.0     4.0   \n",
              "Method     90.0     2.000000    0.821071     1.0     1.0     2.0     3.0   \n",
              "Alloy      90.0     1.500000    0.502801     1.0     1.0     1.5     2.0   \n",
              "Temp       90.0  1600.000000   82.107083  1500.0  1500.0  1600.0  1700.0   \n",
              "Response   90.0   741.777778  145.767845   289.0   698.0   767.0   824.0   \n",
              "\n",
              "             max  \n",
              "Dentist      5.0  \n",
              "Method       3.0  \n",
              "Alloy        2.0  \n",
              "Temp      1700.0  \n",
              "Response  1115.0  "
            ],
            "text/html": [
              "\n",
              "  <div id=\"df-1bca1d83-ed9b-4171-89b3-63e5f08e3d1a\">\n",
              "    <div class=\"colab-df-container\">\n",
              "      <div>\n",
              "<style scoped>\n",
              "    .dataframe tbody tr th:only-of-type {\n",
              "        vertical-align: middle;\n",
              "    }\n",
              "\n",
              "    .dataframe tbody tr th {\n",
              "        vertical-align: top;\n",
              "    }\n",
              "\n",
              "    .dataframe thead th {\n",
              "        text-align: right;\n",
              "    }\n",
              "</style>\n",
              "<table border=\"1\" class=\"dataframe\">\n",
              "  <thead>\n",
              "    <tr style=\"text-align: right;\">\n",
              "      <th></th>\n",
              "      <th>count</th>\n",
              "      <th>mean</th>\n",
              "      <th>std</th>\n",
              "      <th>min</th>\n",
              "      <th>25%</th>\n",
              "      <th>50%</th>\n",
              "      <th>75%</th>\n",
              "      <th>max</th>\n",
              "    </tr>\n",
              "  </thead>\n",
              "  <tbody>\n",
              "    <tr>\n",
              "      <th>Dentist</th>\n",
              "      <td>90.0</td>\n",
              "      <td>3.000000</td>\n",
              "      <td>1.422136</td>\n",
              "      <td>1.0</td>\n",
              "      <td>2.0</td>\n",
              "      <td>3.0</td>\n",
              "      <td>4.0</td>\n",
              "      <td>5.0</td>\n",
              "    </tr>\n",
              "    <tr>\n",
              "      <th>Method</th>\n",
              "      <td>90.0</td>\n",
              "      <td>2.000000</td>\n",
              "      <td>0.821071</td>\n",
              "      <td>1.0</td>\n",
              "      <td>1.0</td>\n",
              "      <td>2.0</td>\n",
              "      <td>3.0</td>\n",
              "      <td>3.0</td>\n",
              "    </tr>\n",
              "    <tr>\n",
              "      <th>Alloy</th>\n",
              "      <td>90.0</td>\n",
              "      <td>1.500000</td>\n",
              "      <td>0.502801</td>\n",
              "      <td>1.0</td>\n",
              "      <td>1.0</td>\n",
              "      <td>1.5</td>\n",
              "      <td>2.0</td>\n",
              "      <td>2.0</td>\n",
              "    </tr>\n",
              "    <tr>\n",
              "      <th>Temp</th>\n",
              "      <td>90.0</td>\n",
              "      <td>1600.000000</td>\n",
              "      <td>82.107083</td>\n",
              "      <td>1500.0</td>\n",
              "      <td>1500.0</td>\n",
              "      <td>1600.0</td>\n",
              "      <td>1700.0</td>\n",
              "      <td>1700.0</td>\n",
              "    </tr>\n",
              "    <tr>\n",
              "      <th>Response</th>\n",
              "      <td>90.0</td>\n",
              "      <td>741.777778</td>\n",
              "      <td>145.767845</td>\n",
              "      <td>289.0</td>\n",
              "      <td>698.0</td>\n",
              "      <td>767.0</td>\n",
              "      <td>824.0</td>\n",
              "      <td>1115.0</td>\n",
              "    </tr>\n",
              "  </tbody>\n",
              "</table>\n",
              "</div>\n",
              "      <button class=\"colab-df-convert\" onclick=\"convertToInteractive('df-1bca1d83-ed9b-4171-89b3-63e5f08e3d1a')\"\n",
              "              title=\"Convert this dataframe to an interactive table.\"\n",
              "              style=\"display:none;\">\n",
              "        \n",
              "  <svg xmlns=\"http://www.w3.org/2000/svg\" height=\"24px\"viewBox=\"0 0 24 24\"\n",
              "       width=\"24px\">\n",
              "    <path d=\"M0 0h24v24H0V0z\" fill=\"none\"/>\n",
              "    <path d=\"M18.56 5.44l.94 2.06.94-2.06 2.06-.94-2.06-.94-.94-2.06-.94 2.06-2.06.94zm-11 1L8.5 8.5l.94-2.06 2.06-.94-2.06-.94L8.5 2.5l-.94 2.06-2.06.94zm10 10l.94 2.06.94-2.06 2.06-.94-2.06-.94-.94-2.06-.94 2.06-2.06.94z\"/><path d=\"M17.41 7.96l-1.37-1.37c-.4-.4-.92-.59-1.43-.59-.52 0-1.04.2-1.43.59L10.3 9.45l-7.72 7.72c-.78.78-.78 2.05 0 2.83L4 21.41c.39.39.9.59 1.41.59.51 0 1.02-.2 1.41-.59l7.78-7.78 2.81-2.81c.8-.78.8-2.07 0-2.86zM5.41 20L4 18.59l7.72-7.72 1.47 1.35L5.41 20z\"/>\n",
              "  </svg>\n",
              "      </button>\n",
              "      \n",
              "  <style>\n",
              "    .colab-df-container {\n",
              "      display:flex;\n",
              "      flex-wrap:wrap;\n",
              "      gap: 12px;\n",
              "    }\n",
              "\n",
              "    .colab-df-convert {\n",
              "      background-color: #E8F0FE;\n",
              "      border: none;\n",
              "      border-radius: 50%;\n",
              "      cursor: pointer;\n",
              "      display: none;\n",
              "      fill: #1967D2;\n",
              "      height: 32px;\n",
              "      padding: 0 0 0 0;\n",
              "      width: 32px;\n",
              "    }\n",
              "\n",
              "    .colab-df-convert:hover {\n",
              "      background-color: #E2EBFA;\n",
              "      box-shadow: 0px 1px 2px rgba(60, 64, 67, 0.3), 0px 1px 3px 1px rgba(60, 64, 67, 0.15);\n",
              "      fill: #174EA6;\n",
              "    }\n",
              "\n",
              "    [theme=dark] .colab-df-convert {\n",
              "      background-color: #3B4455;\n",
              "      fill: #D2E3FC;\n",
              "    }\n",
              "\n",
              "    [theme=dark] .colab-df-convert:hover {\n",
              "      background-color: #434B5C;\n",
              "      box-shadow: 0px 1px 3px 1px rgba(0, 0, 0, 0.15);\n",
              "      filter: drop-shadow(0px 1px 2px rgba(0, 0, 0, 0.3));\n",
              "      fill: #FFFFFF;\n",
              "    }\n",
              "  </style>\n",
              "\n",
              "      <script>\n",
              "        const buttonEl =\n",
              "          document.querySelector('#df-1bca1d83-ed9b-4171-89b3-63e5f08e3d1a button.colab-df-convert');\n",
              "        buttonEl.style.display =\n",
              "          google.colab.kernel.accessAllowed ? 'block' : 'none';\n",
              "\n",
              "        async function convertToInteractive(key) {\n",
              "          const element = document.querySelector('#df-1bca1d83-ed9b-4171-89b3-63e5f08e3d1a');\n",
              "          const dataTable =\n",
              "            await google.colab.kernel.invokeFunction('convertToInteractive',\n",
              "                                                     [key], {});\n",
              "          if (!dataTable) return;\n",
              "\n",
              "          const docLinkHtml = 'Like what you see? Visit the ' +\n",
              "            '<a target=\"_blank\" href=https://colab.research.google.com/notebooks/data_table.ipynb>data table notebook</a>'\n",
              "            + ' to learn more about interactive tables.';\n",
              "          element.innerHTML = '';\n",
              "          dataTable['output_type'] = 'display_data';\n",
              "          await google.colab.output.renderOutput(dataTable, element);\n",
              "          const docLink = document.createElement('div');\n",
              "          docLink.innerHTML = docLinkHtml;\n",
              "          element.appendChild(docLink);\n",
              "        }\n",
              "      </script>\n",
              "    </div>\n",
              "  </div>\n",
              "  "
            ]
          },
          "metadata": {},
          "execution_count": 90
        }
      ]
    },
    {
      "cell_type": "markdown",
      "source": [
        "##Test for Normality - Shapiro - Wilk\n",
        "\n",
        "Ho: Population from which sample is drawn is normally distributed\n",
        "\n",
        "Ha : Population from which sample is drawn is not normally distributed"
      ],
      "metadata": {
        "id": "CbcwKCe748A2"
      }
    },
    {
      "cell_type": "code",
      "source": [
        "dental['Dentist'] = pd.Categorical(dental['Dentist'])\n",
        "dental['Method'] = pd.Categorical(dental['Method'])\n",
        "dental['Alloy'] = pd.Categorical(dental['Alloy'])"
      ],
      "metadata": {
        "id": "b7_Cue_BGjVV"
      },
      "execution_count": 91,
      "outputs": []
    },
    {
      "cell_type": "code",
      "source": [
        "#Applying Shapiro test on Dentist \n",
        "Dentist1 = dental[dental['Dentist'] == 1]['Response']\n",
        "Dentist2 = dental[dental['Dentist'] == 2]['Response']\n",
        "Dentist3 = dental[dental['Dentist'] == 3]['Response']\n",
        "Dentist4 = dental[dental['Dentist'] == 4]['Response']\n",
        "Dentist5 = dental[dental['Dentist'] == 5]['Response']\n",
        "print(stats.shapiro(Dentist1))\n",
        "print(stats.shapiro(Dentist2))\n",
        "print(stats.shapiro(Dentist3))\n",
        "print(stats.shapiro(Dentist4))\n",
        "print(stats.shapiro(Dentist5))\n"
      ],
      "metadata": {
        "colab": {
          "base_uri": "https://localhost:8080/"
        },
        "id": "Jf3_W4BzG1r_",
        "outputId": "b7d1b3ff-9dbd-4458-b933-99e3296c2f5f"
      },
      "execution_count": 95,
      "outputs": [
        {
          "output_type": "stream",
          "name": "stdout",
          "text": [
            "ShapiroResult(statistic=0.9288938045501709, pvalue=0.18567582964897156)\n",
            "ShapiroResult(statistic=0.9665580987930298, pvalue=0.731051504611969)\n",
            "ShapiroResult(statistic=0.9573881030082703, pvalue=0.5520960092544556)\n",
            "ShapiroResult(statistic=0.8089416027069092, pvalue=0.0020372250583022833)\n",
            "ShapiroResult(statistic=0.9546376466751099, pvalue=0.5022979378700256)\n"
          ]
        }
      ]
    },
    {
      "cell_type": "markdown",
      "source": [
        "Sample for Dentist = 4 seems to be drawn from a population which is not normally distributed - p - value < 0.05\n",
        "\n",
        "We go for Anderson Darling Test only after shapiro - wilk test fails"
      ],
      "metadata": {
        "id": "rxn10eq-5GZc"
      }
    },
    {
      "cell_type": "code",
      "source": [
        "#Applying anderson test on Dentist \n",
        "print(stats.anderson(Dentist1, dist = 'norm'))\n",
        "print(stats.anderson(Dentist2, dist = 'norm'))\n",
        "print(stats.anderson(Dentist3, dist = 'norm'))\n",
        "print(stats.anderson(Dentist4, dist = 'norm'))\n",
        "print(stats.anderson(Dentist5, dist = 'norm'))"
      ],
      "metadata": {
        "colab": {
          "base_uri": "https://localhost:8080/"
        },
        "id": "2_h8wpZ6HPFk",
        "outputId": "76c258cf-d1ad-493a-e384-82508dce6517"
      },
      "execution_count": 113,
      "outputs": [
        {
          "output_type": "stream",
          "name": "stdout",
          "text": [
            "AndersonResult(statistic=0.5572318170702566, critical_values=array([0.503, 0.573, 0.687, 0.802, 0.954]), significance_level=array([15. , 10. ,  5. ,  2.5,  1. ]))\n",
            "AndersonResult(statistic=0.18489207423293763, critical_values=array([0.503, 0.573, 0.687, 0.802, 0.954]), significance_level=array([15. , 10. ,  5. ,  2.5,  1. ]))\n",
            "AndersonResult(statistic=0.31139490001785575, critical_values=array([0.503, 0.573, 0.687, 0.802, 0.954]), significance_level=array([15. , 10. ,  5. ,  2.5,  1. ]))\n",
            "AndersonResult(statistic=1.2944798644002624, critical_values=array([0.503, 0.573, 0.687, 0.802, 0.954]), significance_level=array([15. , 10. ,  5. ,  2.5,  1. ]))\n",
            "AndersonResult(statistic=0.3980880088398422, critical_values=array([0.503, 0.573, 0.687, 0.802, 0.954]), significance_level=array([15. , 10. ,  5. ,  2.5,  1. ]))\n"
          ]
        }
      ]
    },
    {
      "cell_type": "markdown",
      "source": [
        "alpha = 0.05, critical value = 0.687, test statistic for Dentist 4  > CV of alpha\n",
        "\n",
        "Sample for Dentist 4 seems to be drawn from a population which is not normally distributed"
      ],
      "metadata": {
        "id": "MdTeaSbR5aF_"
      }
    },
    {
      "cell_type": "code",
      "source": [
        "#Applying Shapiro test on  Method\n",
        "Method1 = dental[dental['Method'] == 1]['Response']\n",
        "Method2 = dental[dental['Method'] == 2]['Response']\n",
        "Method3 = dental[dental['Method'] == 3]['Response']\n",
        "print(stats.shapiro(Method1))\n",
        "print(stats.shapiro(Method2))\n",
        "print(stats.shapiro(Method3))"
      ],
      "metadata": {
        "colab": {
          "base_uri": "https://localhost:8080/"
        },
        "id": "GakTDM_gHjBF",
        "outputId": "2a88b78c-a057-4b9a-e841-e0549bda48bc"
      },
      "execution_count": 114,
      "outputs": [
        {
          "output_type": "stream",
          "name": "stdout",
          "text": [
            "ShapiroResult(statistic=0.9652425050735474, pvalue=0.4183921217918396)\n",
            "ShapiroResult(statistic=0.9371029138565063, pvalue=0.07601772248744965)\n",
            "ShapiroResult(statistic=0.9091950058937073, pvalue=0.014201578684151173)\n"
          ]
        }
      ]
    },
    {
      "cell_type": "markdown",
      "source": [
        "Shapiro's Test Fails for Method 3  Sample - p - value < 0.05"
      ],
      "metadata": {
        "id": "4r_-GbXQ6VYN"
      }
    },
    {
      "cell_type": "code",
      "source": [
        "#Applying anderson test on Method \n",
        "print(stats.anderson(Method1, dist = 'norm'))\n",
        "print(stats.anderson(Method2, dist = 'norm'))\n",
        "print(stats.anderson(Method3, dist = 'norm'))"
      ],
      "metadata": {
        "colab": {
          "base_uri": "https://localhost:8080/"
        },
        "id": "MJ5EuOY1IO1A",
        "outputId": "3a786548-6563-4021-d310-2c1f741ae546"
      },
      "execution_count": 115,
      "outputs": [
        {
          "output_type": "stream",
          "name": "stdout",
          "text": [
            "AndersonResult(statistic=0.31355911678428683, critical_values=array([0.521, 0.593, 0.712, 0.83 , 0.988]), significance_level=array([15. , 10. ,  5. ,  2.5,  1. ]))\n",
            "AndersonResult(statistic=0.5334878167302541, critical_values=array([0.521, 0.593, 0.712, 0.83 , 0.988]), significance_level=array([15. , 10. ,  5. ,  2.5,  1. ]))\n",
            "AndersonResult(statistic=0.9931748727975211, critical_values=array([0.521, 0.593, 0.712, 0.83 , 0.988]), significance_level=array([15. , 10. ,  5. ,  2.5,  1. ]))\n"
          ]
        }
      ]
    },
    {
      "cell_type": "markdown",
      "source": [
        "alpha = 0.05, critical value = 0.712, test statistic for Method 3 > CV of alpha\n",
        "\n",
        "Sample for Method 3 seems to be drawn from a population which is not normally distributed"
      ],
      "metadata": {
        "id": "AkaxoUn46hpA"
      }
    },
    {
      "cell_type": "code",
      "source": [
        "#Distribution Plot of Dentist\n",
        "plt.figure(figsize =[20,10])\n",
        "plt.suptitle('Histograms')\n",
        "plt.subplot(2,3,1)\n",
        "plt.title('Dentist1')\n",
        "sns.histplot(Dentist1, kde = 'True');\n",
        "plt.subplot(2,3,2)\n",
        "plt.title('Dentist2')\n",
        "sns.histplot(Dentist2, kde = 'True');\n",
        "plt.subplot(3,3,3)\n",
        "plt.title('Dentist3')\n",
        "sns.histplot(Dentist3, kde = 'True');\n",
        "plt.subplot(2,3,4)\n",
        "plt.title('Dentist4')\n",
        "sns.histplot(Dentist4, kde = 'True');\n",
        "plt.subplot(2,3,5)\n",
        "plt.title('Dentist5')\n",
        "sns.histplot(Dentist5, kde = 'True');\n"
      ],
      "metadata": {
        "colab": {
          "base_uri": "https://localhost:8080/",
          "height": 677
        },
        "id": "ymdhsbtFIXuH",
        "outputId": "a2d9e662-487d-4810-d1f7-a3f6366edfdd"
      },
      "execution_count": 112,
      "outputs": [
        {
          "output_type": "display_data",
          "data": {
            "text/plain": [
              "<Figure size 1440x720 with 5 Axes>"
            ],
            "image/png": "[encoded data removed]"
          },
          "metadata": {
            "needs_background": "light"
          }
        }
      ]
    },
    {
      "cell_type": "code",
      "source": [
        "#Distribution plot of Method\n",
        "plt.figure(figsize =[20,10])\n",
        "plt.suptitle('Histograms')\n",
        "plt.subplot(2,3,1)\n",
        "plt.title('Method1')\n",
        "sns.histplot(Method1, kde = 'True');\n",
        "plt.subplot(2,3,2)\n",
        "plt.title('Method2')\n",
        "sns.histplot(Method2, kde = 'True');\n",
        "plt.subplot(2,3,3)\n",
        "plt.title('Method3')\n",
        "sns.histplot(Method3, kde = 'True');"
      ],
      "metadata": {
        "colab": {
          "base_uri": "https://localhost:8080/",
          "height": 381
        },
        "id": "kbb7qo3A2jau",
        "outputId": "7e53be93-1f1f-40d1-b888-1e042a587fd3"
      },
      "execution_count": 108,
      "outputs": [
        {
          "output_type": "display_data",
          "data": {
            "text/plain": [
              "<Figure size 1440x720 with 3 Axes>"
            ],
            "image/png": "[encoded data removed]"
          },
          "metadata": {
            "needs_background": "light"
          }
        }
      ]
    },
    {
      "cell_type": "markdown",
      "source": [
        "Performing one way ANOVA with 'Method' with respect to 'responses'."
      ],
      "metadata": {
        "id": "37ArIeReJT_X"
      }
    },
    {
      "cell_type": "markdown",
      "source": [
        "## 7.1. Test whether there is any difference among the dentists on the implant hardness. State the null and alternative hypotheses. Note that both types of alloys cannot be considered together. You must state the null and alternative hypotheses separately for the two types of alloys.?"
      ],
      "metadata": {
        "id": "qvRBXux2vWNE"
      }
    },
    {
      "cell_type": "code",
      "source": [
        "#Creating two seperate sets for each Alloy\n",
        "dental1 = dental[dental['Alloy'] == 1]\n",
        "dental2 = dental[dental['Alloy'] == 2]"
      ],
      "metadata": {
        "id": "i5OoSS1bw2Il"
      },
      "execution_count": 118,
      "outputs": []
    },
    {
      "cell_type": "markdown",
      "source": [
        "## The Hypothesis for the One Way ANOVA are:\n",
        "\n",
        "H0: There is difference among Dentists on implant hardness\n",
        "\n",
        "Ha: There is no difference among Dentists on implant hardness\n"
      ],
      "metadata": {
        "id": "7EOvJRAL7vTD"
      }
    },
    {
      "cell_type": "code",
      "source": [
        "#For Alloy 1\n",
        "formula = 'Response ~ C(Dentist)'\n",
        "model = ols(formula, dental1).fit()\n",
        "anova_table = anova_lm(model)\n",
        "print(anova_table)"
      ],
      "metadata": {
        "colab": {
          "base_uri": "https://localhost:8080/"
        },
        "id": "hApACCrNKaW7",
        "outputId": "e5c05726-6fac-4e35-f285-c3426649f637"
      },
      "execution_count": 119,
      "outputs": [
        {
          "output_type": "stream",
          "name": "stdout",
          "text": [
            "              df         sum_sq       mean_sq         F    PR(>F)\n",
            "C(Dentist)   4.0  106683.688889  26670.922222  1.977112  0.116567\n",
            "Residual    40.0  539593.555556  13489.838889       NaN       NaN\n"
          ]
        }
      ]
    },
    {
      "cell_type": "markdown",
      "source": [
        "at p - value > 0.05 Fail to Reject H0\n",
        "\n",
        "i.e At 95 % confidence we have statistical evidence to state that Dentists has no effect on implant hardness"
      ],
      "metadata": {
        "id": "r-Re9Wgv8Kbo"
      }
    },
    {
      "cell_type": "code",
      "source": [
        "#For Alloy 2\n",
        "formula = 'Response ~ C(Dentist)' \n",
        "model = ols(formula, dental2).fit()\n",
        "anova_table = anova_lm(model)\n",
        "print(anova_table)"
      ],
      "metadata": {
        "colab": {
          "base_uri": "https://localhost:8080/"
        },
        "id": "aXI05LrXxJ38",
        "outputId": "db4ed2b3-2385-4dd3-ae7b-3f0a007b5668"
      },
      "execution_count": 120,
      "outputs": [
        {
          "output_type": "stream",
          "name": "stdout",
          "text": [
            "              df        sum_sq       mean_sq         F    PR(>F)\n",
            "C(Dentist)   4.0  5.679791e+04  14199.477778  0.524835  0.718031\n",
            "Residual    40.0  1.082205e+06  27055.122222       NaN       NaN\n"
          ]
        }
      ]
    },
    {
      "cell_type": "code",
      "source": [
        "at p - value > 0.05 Fail to Reject H0\n",
        "\n",
        "i.e At 95 % confidence we have statistical evidence to state that Dentists has no effect on implant hardness"
      ],
      "metadata": {
        "id": "B-Q14AlRE-1p"
      },
      "execution_count": null,
      "outputs": []
    },
    {
      "cell_type": "markdown",
      "source": [
        "2.Before the hypotheses may be tested, state the required assumptions. Are the assumptions fulfilled? Comment separately on both alloy types.? "
      ],
      "metadata": {
        "id": "tw7RnQRiyt6v"
      }
    },
    {
      "cell_type": "markdown",
      "source": [
        "3.Irrespective of your conclusion in 2, we will continue with the testing procedure. What do you conclude regarding whether implant hardness depends on dentists? Clearly state your conclusion. If the null hypothesis is rejected, is it possible to identify which pairs of dentists differ?"
      ],
      "metadata": {
        "id": "cpmveRPpywF7"
      }
    },
    {
      "cell_type": "code",
      "source": [
        "plt.ylim(dental1['Response'].min(), dental1['Response'].max())\n",
        "sns.pointplot(y = 'Response', x = 'Dentist', data = dental1, ci = None);"
      ],
      "metadata": {
        "colab": {
          "base_uri": "https://localhost:8080/",
          "height": 279
        },
        "id": "BD8zmnmsxvd1",
        "outputId": "9a2d7fc7-5c2d-481e-9979-5ef4f9ee5281"
      },
      "execution_count": 121,
      "outputs": [
        {
          "output_type": "display_data",
          "data": {
            "text/plain": [
              "<Figure size 432x288 with 1 Axes>"
            ],
            "image/png": "[encoded data removed]"
          },
          "metadata": {
            "needs_background": "light"
          }
        }
      ]
    },
    {
      "cell_type": "code",
      "source": [
        "plt.ylim(dental2['Response'].min(), dental2['Response'].max())\n",
        "sns.pointplot(y = 'Response', x = 'Dentist', data = dental2, ci = None);"
      ],
      "metadata": {
        "colab": {
          "base_uri": "https://localhost:8080/",
          "height": 279
        },
        "id": "8BxY5lUkyS1m",
        "outputId": "34a8a91a-2884-452f-faa1-591b6fc4b529"
      },
      "execution_count": 122,
      "outputs": [
        {
          "output_type": "display_data",
          "data": {
            "text/plain": [
              "<Figure size 432x288 with 1 Axes>"
            ],
            "image/png": "[encoded data removed]"
          },
          "metadata": {
            "needs_background": "light"
          }
        }
      ]
    },
    {
      "cell_type": "markdown",
      "source": [
        "4.Now test whether there is any difference among the methods on the hardness of dental implant, separately for the two types of alloys. What are your conclusions? If the null hypothesis is rejected, is it possible to identify which pairs of methods differ?"
      ],
      "metadata": {
        "id": "hLL5TD3G2Kh4"
      }
    },
    {
      "cell_type": "markdown",
      "source": [
        "Performing One Way ANOVA with the variable 'Method' with respect to 'Response'"
      ],
      "metadata": {
        "id": "wslB2dBnLY90"
      }
    },
    {
      "cell_type": "markdown",
      "source": [
        "The Hypothesis for the One Way ANOVA are:\n",
        "\n",
        "H0: There is difference with Method on implant hardness\n",
        "\n",
        "Ha: There is no difference with Method on implant hardness\n"
      ],
      "metadata": {
        "id": "gGsU95I5MHOQ"
      }
    },
    {
      "cell_type": "code",
      "source": [
        "formula = 'Response ~ C(Method)'\n",
        "model = ols(formula, dental1).fit()\n",
        "anova_table = anova_lm(model)\n",
        "print(anova_table)"
      ],
      "metadata": {
        "colab": {
          "base_uri": "https://localhost:8080/"
        },
        "id": "ZGl1MHeRLxY3",
        "outputId": "9022ef8c-067f-4d35-c173-6c54d2972f73"
      },
      "execution_count": 123,
      "outputs": [
        {
          "output_type": "stream",
          "name": "stdout",
          "text": [
            "             df         sum_sq       mean_sq         F    PR(>F)\n",
            "C(Method)   2.0  148472.177778  74236.088889  6.263327  0.004163\n",
            "Residual   42.0  497805.066667  11852.501587       NaN       NaN\n"
          ]
        }
      ]
    },
    {
      "cell_type": "code",
      "source": [
        "formula = 'Response ~ C(Method)'\n",
        "model = ols(formula, dental2).fit()\n",
        "anova_table = anova_lm(model)\n",
        "print(anova_table)"
      ],
      "metadata": {
        "colab": {
          "base_uri": "https://localhost:8080/"
        },
        "id": "EnKkaVjd2VyA",
        "outputId": "30330590-0e49-419f-b056-b43f6ccbb95e"
      },
      "execution_count": 124,
      "outputs": [
        {
          "output_type": "stream",
          "name": "stdout",
          "text": [
            "             df    sum_sq        mean_sq        F    PR(>F)\n",
            "C(Method)   2.0  499640.4  249820.200000  16.4108  0.000005\n",
            "Residual   42.0  639362.4   15222.914286      NaN       NaN\n"
          ]
        }
      ]
    },
    {
      "cell_type": "code",
      "source": [
        "plt.ylim(dental1['Response'].min(), dental1['Response'].max())\n",
        "sns.pointplot(y = 'Response', x = 'Method', data = dental1, ci = None);"
      ],
      "metadata": {
        "colab": {
          "base_uri": "https://localhost:8080/",
          "height": 279
        },
        "outputId": "bbc50ffb-e454-475a-e030-c64877bf066d",
        "id": "aLMyrH4O3g9g"
      },
      "execution_count": 126,
      "outputs": [
        {
          "output_type": "display_data",
          "data": {
            "text/plain": [
              "<Figure size 432x288 with 1 Axes>"
            ],
            "image/png": "[encoded data removed]"
          },
          "metadata": {
            "needs_background": "light"
          }
        }
      ]
    },
    {
      "cell_type": "code",
      "source": [
        "plt.ylim(dental2['Response'].min(), dental2['Response'].max())\n",
        "sns.pointplot(y = 'Response', x = 'Method', data = dental2, ci = None);"
      ],
      "metadata": {
        "colab": {
          "base_uri": "https://localhost:8080/",
          "height": 279
        },
        "outputId": "2b9677df-3c52-4f63-e350-18ac138b1bc4",
        "id": "YhrKKjiI3g9h"
      },
      "execution_count": 127,
      "outputs": [
        {
          "output_type": "display_data",
          "data": {
            "text/plain": [
              "<Figure size 432x288 with 1 Axes>"
            ],
            "image/png": "[encoded data removed]"
          },
          "metadata": {
            "needs_background": "light"
          }
        }
      ]
    },
    {
      "cell_type": "markdown",
      "source": [
        "Hence at p - value < 0.05, we accept H0, i.e At 95 % confidence we have statistical evidence to state that there is difference among the method used on implant hardness"
      ],
      "metadata": {
        "id": "GGhFKaEWPHgz"
      }
    },
    {
      "cell_type": "markdown",
      "source": [
        "Performing One Way ANOVA with the variable 'Temp' with respect to 'Response'."
      ],
      "metadata": {
        "id": "GFZsGmNj2rK9"
      }
    },
    {
      "cell_type": "markdown",
      "source": [
        "5.Now test whether there is any difference among the temperature levels on the hardness of dental implant, separately for the two types of alloys. What are your conclusions? If the null hypothesis is rejected, is it possible to identify which levels of temperatures differ?"
      ],
      "metadata": {
        "id": "HQUJOXqP3T5u"
      }
    },
    {
      "cell_type": "markdown",
      "source": [
        "### The Hypothesis for the One Way ANOVA are:\n",
        "H0: Temp has no impact on hardness\n",
        "\n",
        "Ha: Temp has impact on hardness"
      ],
      "metadata": {
        "id": "S134-VRuSuXE"
      }
    },
    {
      "cell_type": "code",
      "source": [],
      "metadata": {
        "id": "8zdF1ef12rK-"
      },
      "execution_count": null,
      "outputs": []
    },
    {
      "cell_type": "code",
      "source": [
        "formula = 'Response ~ C(Temp)'\n",
        "model = ols(formula, dfa1).fit()\n",
        "anova_table = anova_lm(model)\n",
        "print(anova_table)"
      ],
      "metadata": {
        "colab": {
          "base_uri": "https://localhost:8080/"
        },
        "outputId": "8c03f308-6a5c-4f6a-a244-2bed2e55cf78",
        "id": "h3U8_bvg2rK_"
      },
      "execution_count": null,
      "outputs": [
        {
          "output_type": "stream",
          "name": "stdout",
          "text": [
            "            df         sum_sq       mean_sq         F    PR(>F)\n",
            "C(Temp)    2.0   10154.444444   5077.222222  0.335224  0.717074\n",
            "Residual  42.0  636122.800000  15145.780952       NaN       NaN\n"
          ]
        }
      ]
    },
    {
      "cell_type": "code",
      "source": [
        "formula = 'Response ~ C(Temp)'\n",
        "model = ols(formula, dfa2).fit()\n",
        "anova_table = anova_lm(model)\n",
        "print(anova_table)"
      ],
      "metadata": {
        "colab": {
          "base_uri": "https://localhost:8080/"
        },
        "outputId": "51c1a52d-def2-4f71-affe-2eb428317c6c",
        "id": "2UPD0XTr2rK_"
      },
      "execution_count": null,
      "outputs": [
        {
          "output_type": "stream",
          "name": "stdout",
          "text": [
            "            df        sum_sq       mean_sq         F    PR(>F)\n",
            "C(Temp)    2.0  9.374893e+04  46874.466667  1.883492  0.164678\n",
            "Residual  42.0  1.045254e+06  24886.996825       NaN       NaN\n"
          ]
        }
      ]
    },
    {
      "cell_type": "code",
      "source": [
        "plt.ylim(dental1['Response'].min(), dental1['Response'].max())\n",
        "sns.pointplot(y = 'Response', x = 'Temp', data = dental1, ci = None);"
      ],
      "metadata": {
        "colab": {
          "base_uri": "https://localhost:8080/",
          "height": 279
        },
        "outputId": "c90b9900-b613-4265-d0f9-2eb797f7a5a9",
        "id": "B3tpjFhc32wx"
      },
      "execution_count": 128,
      "outputs": [
        {
          "output_type": "display_data",
          "data": {
            "text/plain": [
              "<Figure size 432x288 with 1 Axes>"
            ],
            "image/png": "[encoded data removed]"
          },
          "metadata": {
            "needs_background": "light"
          }
        }
      ]
    },
    {
      "cell_type": "code",
      "source": [
        "plt.ylim(dental2['Response'].min(), dental2['Response'].max())\n",
        "sns.pointplot(y = 'Response', x = 'Temp', data = dental2, ci = None);"
      ],
      "metadata": {
        "colab": {
          "base_uri": "https://localhost:8080/",
          "height": 279
        },
        "outputId": "123b6c44-752f-4fe4-f472-7d573c699d84",
        "id": "h2I0p4Ln32wy"
      },
      "execution_count": 129,
      "outputs": [
        {
          "output_type": "display_data",
          "data": {
            "text/plain": [
              "<Figure size 432x288 with 1 Axes>"
            ],
            "image/png": "[encoded data removed]"
          },
          "metadata": {
            "needs_background": "light"
          }
        }
      ]
    },
    {
      "cell_type": "markdown",
      "source": [
        "6. Consider the interaction effect of dentist and method and comment on the interaction plot, separately for the two types of alloys?"
      ],
      "metadata": {
        "id": "oWw0NlpXUYC1"
      }
    },
    {
      "cell_type": "markdown",
      "source": [
        "**Let us check whether there is any interaction effect between the method.**\n"
      ],
      "metadata": {
        "id": "CfLmp0p_Me0v"
      }
    },
    {
      "cell_type": "code",
      "source": [
        "sns.pointplot(x='Method', y='Response', data=dental, hue='Alloy',ci=None);"
      ],
      "metadata": {
        "colab": {
          "base_uri": "https://localhost:8080/",
          "height": 279
        },
        "id": "K8L9onUEMeBB",
        "outputId": "13b3ac4b-cc97-4f3a-fbe2-d4f112fbbb5b"
      },
      "execution_count": 130,
      "outputs": [
        {
          "output_type": "display_data",
          "data": {
            "text/plain": [
              "<Figure size 432x288 with 1 Axes>"
            ],
            "image/png": "[encoded data removed]"
          },
          "metadata": {
            "needs_background": "light"
          }
        }
      ]
    },
    {
      "cell_type": "code",
      "source": [
        "sns.pointplot(x='Temp', y='Response', data=dental, hue='Alloy',ci=None);"
      ],
      "metadata": {
        "id": "2w9skkrNOhH3",
        "colab": {
          "base_uri": "https://localhost:8080/",
          "height": 279
        },
        "outputId": "9ecda5ce-418c-4c2e-a94f-c4ee9ff1fb39"
      },
      "execution_count": 131,
      "outputs": [
        {
          "output_type": "display_data",
          "data": {
            "text/plain": [
              "<Figure size 432x288 with 1 Axes>"
            ],
            "image/png": "[encoded data removed]"
          },
          "metadata": {
            "needs_background": "light"
          }
        }
      ]
    },
    {
      "cell_type": "code",
      "source": [
        "sns.pointplot(x='Method', y='Response', data=dental, hue='Dentist',ci=None);"
      ],
      "metadata": {
        "id": "ZbkgHx41N_IW",
        "colab": {
          "base_uri": "https://localhost:8080/",
          "height": 279
        },
        "outputId": "d57243f6-60d1-45a1-a2b3-e35ea9f63c1e"
      },
      "execution_count": 132,
      "outputs": [
        {
          "output_type": "display_data",
          "data": {
            "text/plain": [
              "<Figure size 432x288 with 1 Axes>"
            ],
            "image/png": "[encoded data removed]"
          },
          "metadata": {
            "needs_background": "light"
          }
        }
      ]
    },
    {
      "cell_type": "markdown",
      "source": [
        "7.Now consider the effect of both factors, dentist, and method, separately on each alloy. What do you conclude? Is it possible to identify which dentists are different, which methods are different, and which interaction levels are different?"
      ],
      "metadata": {
        "id": "-qjEkIMLW0Y2"
      }
    },
    {
      "cell_type": "code",
      "source": [
        "formula = 'Response ~ C(Method) + C(Dentist) + C(Method):C(Dentist)'\n",
        "model = ols(formula, dental).fit()\n",
        "anova_table = anova_lm(model)\n",
        "print(anova_table)"
      ],
      "metadata": {
        "colab": {
          "base_uri": "https://localhost:8080/"
        },
        "id": "gHGBlcYqNdva",
        "outputId": "836e6a7b-2edb-466f-a9c0-6cc90be852ef"
      },
      "execution_count": 133,
      "outputs": [
        {
          "output_type": "stream",
          "name": "stdout",
          "text": [
            "                        df         sum_sq        mean_sq          F  \\\n",
            "C(Method)              2.0  593427.488889  296713.744444  26.702047   \n",
            "C(Dentist)             4.0  157794.555556   39448.638889   3.550086   \n",
            "C(Method):C(Dentist)   8.0  306471.844444   38308.980556   3.447526   \n",
            "Residual              75.0  833401.666667   11112.022222        NaN   \n",
            "\n",
            "                            PR(>F)  \n",
            "C(Method)             1.750208e-09  \n",
            "C(Dentist)            1.045384e-02  \n",
            "C(Method):C(Dentist)  1.969515e-03  \n",
            "Residual                       NaN  \n"
          ]
        }
      ]
    },
    {
      "cell_type": "code",
      "source": [
        "fig, ax = plt.subplots(figsize = [15,8])\n",
        "fig = interaction_plot(np.array(dental1['Dentist']), np.array(dental1['Method']), np.array(dental1['Response']), markers = ['o', 'D', '^'], \n",
        "                       colors = ['red', 'blue', 'green'], ax = ax, xlabel = 'Dentist', ylabel = 'Response', ms = 6);"
      ],
      "metadata": {
        "colab": {
          "base_uri": "https://localhost:8080/",
          "height": 497
        },
        "id": "iYkUEz5H4ynA",
        "outputId": "93314a5a-05ab-4b54-fc10-2068b2cbdbff"
      },
      "execution_count": 134,
      "outputs": [
        {
          "output_type": "display_data",
          "data": {
            "text/plain": [
              "<Figure size 1080x576 with 1 Axes>"
            ],
            "image/png": "[encoded data removed]"
          },
          "metadata": {
            "needs_background": "light"
          }
        }
      ]
    },
    {
      "cell_type": "markdown",
      "source": [
        "All methods have interaction among them."
      ],
      "metadata": {
        "id": "B_nfEDloo4Px"
      }
    },
    {
      "cell_type": "code",
      "source": [
        "fig, ax = plt.subplots(figsize = [15,8])\n",
        "fig = interaction_plot(np.array(dental2['Dentist']), np.array(dental2['Method']), np.array(dental2['Response']), markers = ['o', 'D', '^'], \n",
        "                       colors = ['red', 'blue', 'green'], ax = ax, xlabel = 'Dentist', ylabel = 'Response', ms = 6);"
      ],
      "metadata": {
        "colab": {
          "base_uri": "https://localhost:8080/",
          "height": 497
        },
        "id": "qI8EFheW52ch",
        "outputId": "d7f57139-1210-4f29-d5d5-7720881ab38f"
      },
      "execution_count": null,
      "outputs": [
        {
          "output_type": "display_data",
          "data": {
            "text/plain": [
              "<Figure size 1080x576 with 1 Axes>"
            ],
            "image/png": "[encoded data removed]"
          },
          "metadata": {
            "needs_background": "light"
          }
        }
      ]
    },
    {
      "cell_type": "markdown",
      "source": [
        "Method 1 & Method 2 has interaction among them. While Method 3 has no interactions with others.\n"
      ],
      "metadata": {
        "id": "zyFdEVN8ovR9"
      }
    }
  ]
}